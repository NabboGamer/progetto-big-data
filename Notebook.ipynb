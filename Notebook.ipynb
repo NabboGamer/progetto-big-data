{
 "cells": [
  {
   "cell_type": "code",
   "execution_count": 1,
   "id": "1871cd02",
   "metadata": {},
   "outputs": [],
   "source": [
    "import json\n",
    "\n",
    "import numpy as np\n",
    "\n",
    "import pandas as pd\n",
    "\n",
    "from IPython.display import display"
   ]
  },
  {
   "cell_type": "code",
   "execution_count": 2,
   "id": "a1533994",
   "metadata": {},
   "outputs": [],
   "source": [
    "# Configurazione opzioni Pandas\n",
    "\n",
    "pd.set_option('display.max_columns', None)"
   ]
  },
  {
   "cell_type": "code",
   "execution_count": 3,
   "id": "ca48db4c",
   "metadata": {},
   "outputs": [],
   "source": [
    "# Definizione funzioni ausiliarie\n",
    "\n",
    "def float_converter(s):\n",
    "    s = s.replace(\",\", \".\")\n",
    "    return s\n",
    "\n",
    "def percentage_calculator(row):\n",
    "    if(row['espressi'] == 0):\n",
    "        return 0\n",
    "    else:\n",
    "        return row['voti']/row['espressi']"
   ]
  },
  {
   "cell_type": "code",
   "execution_count": 4,
   "id": "f5c71bf8",
   "metadata": {},
   "outputs": [],
   "source": [
    "# Leggo il file di configurazione\n",
    "with open('config/config.json') as f:\n",
    "    config_data = json.load(f)\n",
    "\n",
    "# Ottengo i percorsi dei file\n",
    "file_path_vaccinazioni_covid = config_data['path_covid_19_france_vaccinations_age_sexe_dep']\n",
    "file_path_andamento_dei_prezzi_al_consumo = config_data['path_economicref_france_indice_prix_consommation']\n",
    "file_path_risultati_delle_elezioni_legislative_1_turno = config_data['path_elections_france_legislatives_2022_1er_tour_par_bureau_de_vote']\n",
    "file_path_risultati_delle_elezioni_legislative_2_turno = config_data['path_elections_france_legislatives_2022_2nd_tour_par_bureau_de_vote']\n",
    "file_path_risultati_delle_elezioni_presidenziali_1_turno = config_data['path_elections_france_presidentielles_2022_1er_tour_par_bureau_de_vote']\n",
    "file_path_risultati_delle_elezioni_presidenziali_2_turno = config_data['path_elections_france_presidentielles_2022_2nd_tour_par_bureau_de_vote']\n",
    "file_path_dati_sulla_disoccupazione = config_data['path_labouref_france_departement_quarter_jobseeker']\n",
    "file_path_andamento_dei_prezzi_dei_carburanti = config_data['path_prix_des_carburants_j_1_001']\n",
    "\n",
    "file_path_risultati_elezioni_presidenziali_1_turno = config_data['path_risultati_elezioni_presidenziali_1_turno']\n",
    "file_path_risultati_elezioni_presidenziali_2_turno = config_data['path_risultati_elezioni_presidenziali_2_turno']"
   ]
  },
  {
   "cell_type": "code",
   "execution_count": 5,
   "id": "a6fd82c7",
   "metadata": {},
   "outputs": [],
   "source": [
    "# Caricamento e cleaning dataset vaccinazioni_covid\n",
    "\n",
    "df_vaccinazioni_covid = pd.read_csv(file_path_vaccinazioni_covid, sep=';')\n",
    "df_vaccinazioni_covid.rename(columns={\"Date\": \"data\", \"Nombre de doses n°1\": \"numero_prime_dosi\", \"Nombre cumulé de doses n°1\":\"numero_cumulativo_prime_dosi\", \"Type de variable\":\"tipo_variabile\",\"Valeur de la variable\":\"valore_variabile\",\"Libellé de la variable\":\"etichetta_variabile\", \"Nom Officiel Département\":\"nome_dipartimento\", \"Code Officiel Région\":\"codice_regione\", \"Nom Officiel Région\":\"nome_regione\", \"Code Officiel Département\":\"codice_dipartimento\", \"Nombre de vaccinations complètes (doses n°2)\":\"numero_seconde_dosi\", \"Nombre de personnes vaccinées avec une dose de rappel (3e dose)\":\"numero_terze_dosi\", \"Nombre de personnes vaccinées avec une deuxième dose de rappel (4e dose)\":\"numero_quarte_dosi\", \"Nombre de doses de rappel bivalent\":\"numero_dosi_bivalenti\", \"Nombre de personnes ayant reçu une troisième dose de rappel\":\"numero_persone_terza_dose\", \"Nombre cumulé de vaccinations complètes (doses n°2)\":\"numero_cumulativo_seconde dosi\", \"Nombre cumulé de personnes vaccinées avec une dose de rappel (3e dose)\":\"numero_cumulativo_terze_dosi\", \"Nombre cumulé de personnes vaccinées avec une deuxième dose de rappel (4e dose)\":\"numero_cumulativo_quarte_dosi\", \"Nombre cumulé de personnes vaccinées avec une dose de rappel bivalent\":\"numero_cumulativo_dosi_bivalenti\", \"Nombre cumulé de personnes ayant reçu une troisième dose de rappel\":\"numero_cumulativo_persone_terza_dose_richiamo\", \"Couverture vaccinale partielle (dose n°1)\":\"copertura_vaccinale_prima_dose\", \"Couverture vaccinale complète (dose n°2)\":\"copertura_vaccinale_seconda_dose\", \"Couverture vaccinale rappel/3e dose\":\"copertura_vaccinale_terza_dose\", \"Couverture vaccinale 2e rappel/4e dose\":\"copertura_vaccinale_quarta_dose\", \"Couverture vaccinale du rappel bivalent\":\"copertura_vaccinale_dose_bivalente\", \"Couverture vaccinale de la troisième dose de rappel\":\"copertura_vaccinale_terza_dose_richiamo\"}, inplace=True)\n",
    "df_vaccinazioni_covid.drop(['numero_persone_terza_dose','numero_cumulativo_persone_terza_dose_richiamo', 'copertura_vaccinale_terza_dose_richiamo'], axis=1, inplace=True)\n",
    "new_ordered_columns = [\"data\",\"nome_regione\",\"codice_regione\",\"nome_dipartimento\",\"codice_dipartimento\",\"tipo_variabile\",\"etichetta_variabile\",\"valore_variabile\",\"numero_prime_dosi\",\"numero_seconde_dosi\",\"numero_terze_dosi\",\"numero_quarte_dosi\",\"numero_cumulativo_prime_dosi\",\"numero_cumulativo_seconde dosi\",\"numero_cumulativo_terze_dosi\",\"numero_cumulativo_quarte_dosi\",\"numero_dosi_bivalenti\",\"numero_cumulativo_dosi_bivalenti\", \"copertura_vaccinale_prima_dose\", \"copertura_vaccinale_seconda_dose\", \"copertura_vaccinale_terza_dose\", \"copertura_vaccinale_quarta_dose\", \"copertura_vaccinale_dose_bivalente\"]\n",
    "df_vaccinazioni_covid = df_vaccinazioni_covid.reindex(columns=new_ordered_columns)\n",
    "#df_vaccinazioni_covid.head(10)"
   ]
  },
  {
   "cell_type": "code",
   "execution_count": 6,
   "id": "776aaed8",
   "metadata": {},
   "outputs": [],
   "source": [
    "# Caricamento e cleaning dataset andamento_prezzi_consumo\n",
    "\n",
    "df_andamento_prezzi_consumo = pd.read_csv(file_path_andamento_dei_prezzi_al_consumo, sep=';')\n",
    "df_andamento_prezzi_consumo.rename(columns={\"Période\" : \"periodo\", \"Indice\" : \"suggerimento\", \"Valeur\": \"valore\",\"Code\" : \"codice\",\"Type\" : \"tipo\",\"Sous-type\" : \"sottotipo\", \"Base\" : \"base\", \"Population\" : \"popolazione\", \"Zone concernée\" : \"zona_interessata\", \"Code COICOP\" : \"codice_COICOP\", \"Désignation COICOP\" : \"designazione_COICOP\", \"Série arrêtée\" : \"serie_interrotta\", \"Référence INSEE\" : \"riferimento_INSEE\"}, inplace=True)\n",
    "#df_andamento_prezzi_consumo.head(10)"
   ]
  },
  {
   "cell_type": "code",
   "execution_count": 7,
   "id": "cff909ce",
   "metadata": {},
   "outputs": [],
   "source": [
    "# Caricamento e cleaning dataset risultati_elezioni_legislative_1_turno\n",
    "\n",
    "df_risultati_elezioni_legislative_1_turno = pd.read_csv(file_path_risultati_delle_elezioni_legislative_1_turno, sep=';', dtype={\"Code du département\": str, \"Code de la commune\": str, \"Code du b.vote\": str})\n",
    "df_risultati_elezioni_legislative_1_turno.rename(columns={\"Code du département\" : \"codice_dipartimento\", \"Libellé du département\" : \"nome_dipartimento\", \"Code de la circonscription\" : \"codice_della_circoscrizione\", \"Libellé de la circonscription\" : \"nome_della_circoscrizione\", \"Code de la commune\" : \"codice_del_comune\", \"Libellé de la commune\" : \"nome_del_comune\", \"Code du b.vote\" : \"codice_del_seggio_elettorale\", \"Inscrits\" : \"iscritti\", \"Abstentions\" : \"astenuti\", \"% Abs/Ins\" : \"% astenuti/iscritti\", \"Votants\" : \"votanti\", \"% Vot/Ins\" : \"% votanti/iscritti\", \"Blancs\" : \"bianche\", \"% Blancs/Ins\" : \"% bianche/iscritti\", \"% Blancs/Vot\" : \"% bianche/votanti\", \"Nuls\" : \"nulle\", \"% Nuls/Ins\" : \"% nulle/iscritti\", \"% Nuls/Vot\" : \"% nulle/votanti\", \"Exprimés\" : \"espressi\", \"% Exp/Ins\" : \"% espressi/iscritti\", \"% Exp/Vot\" : \"% espressi/votanti\", \"N°Panneau\" : \"pannello_numero\", \"Sexe\" : \"genere\", \"Nom\" : \"cognome\", \"Prénom\" : \"nome\", \"Nuance\" : \"tendenza_politica\", \"Voix\" : \"voti\", \"% Voix/Ins\" : \"% voti/iscritti\", \"% Voix/Exp\" : \"% voti/iscritti\", \"Code Officiel EPCI\" : \"codice_ufficiale_EPCI\", \"Nom Officiel EPCI\" : \"nome_ufficiale_dello_EPCI\", \"Code Officiel Région\" : \"codice_ufficiale_regionale\", \"Nom Officiel Région\" : \"nome_ufficiale_regionale\", \"location\" : \"coordinate\", \"lib_du_b_vote\" : \"etichetta_del_seggio_elettorale\", \"scrutin_code\" : \"codice_scrutinio\"}, inplace=True)\n",
    "#df_risultati_elezioni_legislative_1_turno.head(10)"
   ]
  },
  {
   "cell_type": "code",
   "execution_count": 8,
   "id": "a0db5b09",
   "metadata": {},
   "outputs": [],
   "source": [
    "# Caricamento e cleaning dataset risultati_elezioni_legislative_2_turno\n",
    "\n",
    "df_risultati_elezioni_legislative_2_turno = pd.read_csv(file_path_risultati_delle_elezioni_legislative_2_turno, sep=';', dtype={\"Code du département\": str, \"Code de la commune\": str, \"Code du b.vote\": str})\n",
    "df_risultati_elezioni_legislative_2_turno.rename(columns={\"Code du département\" : \"codice_dipartimento\", \"Libellé du département\" : \"nome_dipartimento\", \"Code de la circonscription\" : \"codice_della_circoscrizione\", \"Libellé de la circonscription\" : \"nome_della_circoscrizione\", \"Code de la commune\" : \"codice_del_comune\", \"Libellé de la commune\" : \"nome_del_comune\", \"Code du b.vote\" : \"codice_del_seggio_elettorale\", \"Inscrits\" : \"iscritti\", \"Abstentions\" : \"astenuti\", \"% Abs/Ins\" : \"% astenuti/iscritti\", \"Votants\" : \"votanti\", \"% Vot/Ins\" : \"% votanti/iscritti\", \"Blancs\" : \"bianche\", \"% Blancs/Ins\" : \"% bianche/iscritti\", \"% Blancs/Vot\" : \"% bianche/votanti\", \"Nuls\" : \"nulle\", \"% Nuls/Ins\" : \"% nulle/iscritti\", \"% Nuls/Vot\" : \"% nulle/votanti\", \"Exprimés\" : \"espressi\", \"% Exp/Ins\" : \"% espressi/iscritti\", \"% Exp/Vot\" : \"% espressi/votanti\", \"N°Panneau\" : \"pannello_numero\", \"Sexe\" : \"genere\", \"Nom\" : \"cognome\", \"Prénom\" : \"nome\", \"Nuance\" : \"tendenza_politica\", \"Voix\" : \"voti\", \"% Voix/Ins\" : \"% voti/iscritti\", \"% Voix/Exp\" : \"% voti/iscritti\", \"Code Officiel EPCI\" : \"codice_ufficiale_EPCI\", \"Nom Officiel EPCI\" : \"nome_ufficiale_dello_EPCI\", \"Code Officiel Région\" : \"codice_ufficiale_regionale\", \"Nom Officiel Région\" : \"nome_ufficiale_regionale\", \"location\" : \"coordinate\", \"lib_du_b_vote\" : \"etichetta_del_seggio_elettorale\", \"scrutin_code\" : \"codice_scrutinio\"}, inplace=True)\n",
    "#df_risultati_elezioni_legislative_2_turno.head(10)"
   ]
  },
  {
   "cell_type": "code",
   "execution_count": 9,
   "id": "ab500c6a",
   "metadata": {},
   "outputs": [
    {
     "ename": "AttributeError",
     "evalue": "'float' object has no attribute 'replace'",
     "output_type": "error",
     "traceback": [
      "\u001b[0;31m---------------------------------------------------------------------------\u001b[0m",
      "\u001b[0;31mAttributeError\u001b[0m                            Traceback (most recent call last)",
      "Cell \u001b[0;32mIn[9], line 7\u001b[0m\n\u001b[1;32m      5\u001b[0m new_ordered_columns \u001b[38;5;241m=\u001b[39m [\u001b[38;5;124m\"\u001b[39m\u001b[38;5;124mcodice_regione\u001b[39m\u001b[38;5;124m\"\u001b[39m,\u001b[38;5;124m\"\u001b[39m\u001b[38;5;124mnome_regione\u001b[39m\u001b[38;5;124m\"\u001b[39m,\u001b[38;5;124m\"\u001b[39m\u001b[38;5;124mcodice_dipartimento\u001b[39m\u001b[38;5;124m\"\u001b[39m,\u001b[38;5;124m\"\u001b[39m\u001b[38;5;124mnome_dipartimento\u001b[39m\u001b[38;5;124m\"\u001b[39m,\u001b[38;5;124m\"\u001b[39m\u001b[38;5;124mcodice_EPCI\u001b[39m\u001b[38;5;124m\"\u001b[39m, \u001b[38;5;124m\"\u001b[39m\u001b[38;5;124mnome_EPCI\u001b[39m\u001b[38;5;124m\"\u001b[39m,\u001b[38;5;124m\"\u001b[39m\u001b[38;5;124mcodice_comune\u001b[39m\u001b[38;5;124m\"\u001b[39m,\u001b[38;5;124m\"\u001b[39m\u001b[38;5;124mnome_comune\u001b[39m\u001b[38;5;124m\"\u001b[39m,\u001b[38;5;124m\"\u001b[39m\u001b[38;5;124mcodice_circoscrizione\u001b[39m\u001b[38;5;124m\"\u001b[39m,\u001b[38;5;124m\"\u001b[39m\u001b[38;5;124mnome_circoscrizione\u001b[39m\u001b[38;5;124m\"\u001b[39m,\u001b[38;5;124m\"\u001b[39m\u001b[38;5;124mcodice_seggio_elettorale\u001b[39m\u001b[38;5;124m\"\u001b[39m,\u001b[38;5;124m\"\u001b[39m\u001b[38;5;124miscritti\u001b[39m\u001b[38;5;124m\"\u001b[39m,\u001b[38;5;124m\"\u001b[39m\u001b[38;5;124mastenuti\u001b[39m\u001b[38;5;124m\"\u001b[39m,\u001b[38;5;124m\"\u001b[39m\u001b[38;5;132;01m% a\u001b[39;00m\u001b[38;5;124mstenuti/iscritti\u001b[39m\u001b[38;5;124m\"\u001b[39m,\u001b[38;5;124m\"\u001b[39m\u001b[38;5;124mvotanti\u001b[39m\u001b[38;5;124m\"\u001b[39m,\u001b[38;5;124m\"\u001b[39m\u001b[38;5;124m%\u001b[39m\u001b[38;5;124m votanti/iscritti\u001b[39m\u001b[38;5;124m\"\u001b[39m,\u001b[38;5;124m\"\u001b[39m\u001b[38;5;124mbianche\u001b[39m\u001b[38;5;124m\"\u001b[39m,\u001b[38;5;124m\"\u001b[39m\u001b[38;5;124m%\u001b[39m\u001b[38;5;124m bianche/iscritti\u001b[39m\u001b[38;5;124m\"\u001b[39m,\u001b[38;5;124m\"\u001b[39m\u001b[38;5;124m%\u001b[39m\u001b[38;5;124m bianche/votanti\u001b[39m\u001b[38;5;124m\"\u001b[39m,\u001b[38;5;124m\"\u001b[39m\u001b[38;5;124mnulle\u001b[39m\u001b[38;5;124m\"\u001b[39m,\u001b[38;5;124m\"\u001b[39m\u001b[38;5;124m%\u001b[39m\u001b[38;5;124m nulle/iscritti\u001b[39m\u001b[38;5;124m\"\u001b[39m,\u001b[38;5;124m\"\u001b[39m\u001b[38;5;124m%\u001b[39m\u001b[38;5;124m nulle/votanti\u001b[39m\u001b[38;5;124m\"\u001b[39m,\u001b[38;5;124m\"\u001b[39m\u001b[38;5;124mespressi\u001b[39m\u001b[38;5;124m\"\u001b[39m,\u001b[38;5;124m\"\u001b[39m\u001b[38;5;132;01m% e\u001b[39;00m\u001b[38;5;124mspressi/iscritti\u001b[39m\u001b[38;5;124m\"\u001b[39m,\u001b[38;5;124m\"\u001b[39m\u001b[38;5;132;01m% e\u001b[39;00m\u001b[38;5;124mspressi/votanti\u001b[39m\u001b[38;5;124m\"\u001b[39m,\u001b[38;5;124m\"\u001b[39m\u001b[38;5;124mpannello_numero\u001b[39m\u001b[38;5;124m\"\u001b[39m,\u001b[38;5;124m\"\u001b[39m\u001b[38;5;124mgenere\u001b[39m\u001b[38;5;124m\"\u001b[39m,\u001b[38;5;124m\"\u001b[39m\u001b[38;5;124mcognome\u001b[39m\u001b[38;5;124m\"\u001b[39m,\u001b[38;5;124m\"\u001b[39m\u001b[38;5;124mnome\u001b[39m\u001b[38;5;124m\"\u001b[39m,\u001b[38;5;124m\"\u001b[39m\u001b[38;5;124mtendenza_politica\u001b[39m\u001b[38;5;124m\"\u001b[39m,\u001b[38;5;124m\"\u001b[39m\u001b[38;5;124mvoti\u001b[39m\u001b[38;5;124m\"\u001b[39m,\u001b[38;5;124m\"\u001b[39m\u001b[38;5;124m%\u001b[39m\u001b[38;5;124m voti/iscritti\u001b[39m\u001b[38;5;124m\"\u001b[39m,\u001b[38;5;124m\"\u001b[39m\u001b[38;5;124m%\u001b[39m\u001b[38;5;124m voti/espressi\u001b[39m\u001b[38;5;124m\"\u001b[39m,\u001b[38;5;124m\"\u001b[39m\u001b[38;5;124mcoordinate\u001b[39m\u001b[38;5;124m\"\u001b[39m,\u001b[38;5;124m\"\u001b[39m\u001b[38;5;124metichetta_seggio_elettorale\u001b[39m\u001b[38;5;124m\"\u001b[39m,\u001b[38;5;124m\"\u001b[39m\u001b[38;5;124mcodice_scrutinio\u001b[39m\u001b[38;5;124m\"\u001b[39m]\n\u001b[1;32m      6\u001b[0m df_risultati_elezioni_presidenziali_1_turno \u001b[38;5;241m=\u001b[39m df_risultati_elezioni_presidenziali_1_turno\u001b[38;5;241m.\u001b[39mreindex(columns\u001b[38;5;241m=\u001b[39mnew_ordered_columns)\n\u001b[0;32m----> 7\u001b[0m df_risultati_elezioni_presidenziali_1_turno[\u001b[38;5;124m'\u001b[39m\u001b[38;5;124m%\u001b[39m\u001b[38;5;124m voti/espressi\u001b[39m\u001b[38;5;124m'\u001b[39m] \u001b[38;5;241m=\u001b[39m \u001b[43mdf_risultati_elezioni_presidenziali_1_turno\u001b[49m\u001b[43m[\u001b[49m\u001b[38;5;124;43m'\u001b[39;49m\u001b[38;5;124;43m%\u001b[39;49m\u001b[38;5;124;43m voti/espressi\u001b[39;49m\u001b[38;5;124;43m'\u001b[39;49m\u001b[43m]\u001b[49m\u001b[38;5;241;43m.\u001b[39;49m\u001b[43mmap\u001b[49m\u001b[43m(\u001b[49m\u001b[43mfloat_converter\u001b[49m\u001b[43m)\u001b[49m\n\u001b[1;32m      8\u001b[0m df_risultati_elezioni_presidenziali_1_turno \u001b[38;5;241m=\u001b[39m df_risultati_elezioni_presidenziali_1_turno\u001b[38;5;241m.\u001b[39mastype({\u001b[38;5;124m\"\u001b[39m\u001b[38;5;124mcodice_regione\u001b[39m\u001b[38;5;124m\"\u001b[39m: \u001b[38;5;124m\"\u001b[39m\u001b[38;5;124mInt64\u001b[39m\u001b[38;5;124m\"\u001b[39m, \u001b[38;5;124m\"\u001b[39m\u001b[38;5;124mcodice_EPCI\u001b[39m\u001b[38;5;124m\"\u001b[39m: \u001b[38;5;124m\"\u001b[39m\u001b[38;5;124mInt64\u001b[39m\u001b[38;5;124m\"\u001b[39m, \u001b[38;5;124m\"\u001b[39m\u001b[38;5;124mcodice_circoscrizione\u001b[39m\u001b[38;5;124m\"\u001b[39m: \u001b[38;5;124m\"\u001b[39m\u001b[38;5;124mInt64\u001b[39m\u001b[38;5;124m\"\u001b[39m, \u001b[38;5;124m\"\u001b[39m\u001b[38;5;124m%\u001b[39m\u001b[38;5;124m voti/espressi\u001b[39m\u001b[38;5;124m\"\u001b[39m: np\u001b[38;5;241m.\u001b[39mfloat64}, errors\u001b[38;5;241m=\u001b[39m\u001b[38;5;124m'\u001b[39m\u001b[38;5;124mignore\u001b[39m\u001b[38;5;124m'\u001b[39m)\n\u001b[1;32m      9\u001b[0m df_risultati_elezioni_presidenziali_1_turno \u001b[38;5;241m=\u001b[39m df_risultati_elezioni_presidenziali_1_turno\u001b[38;5;241m.\u001b[39mastype({\u001b[38;5;124m\"\u001b[39m\u001b[38;5;124mcodice_regione\u001b[39m\u001b[38;5;124m\"\u001b[39m: \u001b[38;5;28mstr\u001b[39m, \u001b[38;5;124m\"\u001b[39m\u001b[38;5;124mcodice_EPCI\u001b[39m\u001b[38;5;124m\"\u001b[39m: \u001b[38;5;28mstr\u001b[39m, \u001b[38;5;124m\"\u001b[39m\u001b[38;5;124mcodice_circoscrizione\u001b[39m\u001b[38;5;124m\"\u001b[39m: \u001b[38;5;28mstr\u001b[39m})\n",
      "File \u001b[0;32m~/anaconda3/envs/progetto-bigdata/lib/python3.10/site-packages/pandas/core/series.py:4397\u001b[0m, in \u001b[0;36mSeries.map\u001b[0;34m(self, arg, na_action)\u001b[0m\n\u001b[1;32m   4318\u001b[0m \u001b[38;5;28;01mdef\u001b[39;00m \u001b[38;5;21mmap\u001b[39m(\n\u001b[1;32m   4319\u001b[0m     \u001b[38;5;28mself\u001b[39m,\n\u001b[1;32m   4320\u001b[0m     arg: Callable \u001b[38;5;241m|\u001b[39m Mapping \u001b[38;5;241m|\u001b[39m Series,\n\u001b[1;32m   4321\u001b[0m     na_action: Literal[\u001b[38;5;124m\"\u001b[39m\u001b[38;5;124mignore\u001b[39m\u001b[38;5;124m\"\u001b[39m] \u001b[38;5;241m|\u001b[39m \u001b[38;5;28;01mNone\u001b[39;00m \u001b[38;5;241m=\u001b[39m \u001b[38;5;28;01mNone\u001b[39;00m,\n\u001b[1;32m   4322\u001b[0m ) \u001b[38;5;241m-\u001b[39m\u001b[38;5;241m>\u001b[39m Series:\n\u001b[1;32m   4323\u001b[0m \u001b[38;5;250m    \u001b[39m\u001b[38;5;124;03m\"\"\"\u001b[39;00m\n\u001b[1;32m   4324\u001b[0m \u001b[38;5;124;03m    Map values of Series according to an input mapping or function.\u001b[39;00m\n\u001b[1;32m   4325\u001b[0m \n\u001b[0;32m   (...)\u001b[0m\n\u001b[1;32m   4395\u001b[0m \u001b[38;5;124;03m    dtype: object\u001b[39;00m\n\u001b[1;32m   4396\u001b[0m \u001b[38;5;124;03m    \"\"\"\u001b[39;00m\n\u001b[0;32m-> 4397\u001b[0m     new_values \u001b[38;5;241m=\u001b[39m \u001b[38;5;28;43mself\u001b[39;49m\u001b[38;5;241;43m.\u001b[39;49m\u001b[43m_map_values\u001b[49m\u001b[43m(\u001b[49m\u001b[43marg\u001b[49m\u001b[43m,\u001b[49m\u001b[43m \u001b[49m\u001b[43mna_action\u001b[49m\u001b[38;5;241;43m=\u001b[39;49m\u001b[43mna_action\u001b[49m\u001b[43m)\u001b[49m\n\u001b[1;32m   4398\u001b[0m     \u001b[38;5;28;01mreturn\u001b[39;00m \u001b[38;5;28mself\u001b[39m\u001b[38;5;241m.\u001b[39m_constructor(new_values, index\u001b[38;5;241m=\u001b[39m\u001b[38;5;28mself\u001b[39m\u001b[38;5;241m.\u001b[39mindex, copy\u001b[38;5;241m=\u001b[39m\u001b[38;5;28;01mFalse\u001b[39;00m)\u001b[38;5;241m.\u001b[39m__finalize__(\n\u001b[1;32m   4399\u001b[0m         \u001b[38;5;28mself\u001b[39m, method\u001b[38;5;241m=\u001b[39m\u001b[38;5;124m\"\u001b[39m\u001b[38;5;124mmap\u001b[39m\u001b[38;5;124m\"\u001b[39m\n\u001b[1;32m   4400\u001b[0m     )\n",
      "File \u001b[0;32m~/anaconda3/envs/progetto-bigdata/lib/python3.10/site-packages/pandas/core/base.py:924\u001b[0m, in \u001b[0;36mIndexOpsMixin._map_values\u001b[0;34m(self, mapper, na_action)\u001b[0m\n\u001b[1;32m    921\u001b[0m         \u001b[38;5;28;01mraise\u001b[39;00m \u001b[38;5;167;01mValueError\u001b[39;00m(msg)\n\u001b[1;32m    923\u001b[0m \u001b[38;5;66;03m# mapper is a function\u001b[39;00m\n\u001b[0;32m--> 924\u001b[0m new_values \u001b[38;5;241m=\u001b[39m \u001b[43mmap_f\u001b[49m\u001b[43m(\u001b[49m\u001b[43mvalues\u001b[49m\u001b[43m,\u001b[49m\u001b[43m \u001b[49m\u001b[43mmapper\u001b[49m\u001b[43m)\u001b[49m\n\u001b[1;32m    926\u001b[0m \u001b[38;5;28;01mreturn\u001b[39;00m new_values\n",
      "File \u001b[0;32m~/anaconda3/envs/progetto-bigdata/lib/python3.10/site-packages/pandas/_libs/lib.pyx:2834\u001b[0m, in \u001b[0;36mpandas._libs.lib.map_infer\u001b[0;34m()\u001b[0m\n",
      "Cell \u001b[0;32mIn[3], line 4\u001b[0m, in \u001b[0;36mfloat_converter\u001b[0;34m(s)\u001b[0m\n\u001b[1;32m      3\u001b[0m \u001b[38;5;28;01mdef\u001b[39;00m \u001b[38;5;21mfloat_converter\u001b[39m(s):\n\u001b[0;32m----> 4\u001b[0m     s \u001b[38;5;241m=\u001b[39m \u001b[43ms\u001b[49m\u001b[38;5;241;43m.\u001b[39;49m\u001b[43mreplace\u001b[49m(\u001b[38;5;124m\"\u001b[39m\u001b[38;5;124m,\u001b[39m\u001b[38;5;124m\"\u001b[39m, \u001b[38;5;124m\"\u001b[39m\u001b[38;5;124m.\u001b[39m\u001b[38;5;124m\"\u001b[39m)\n\u001b[1;32m      5\u001b[0m     \u001b[38;5;28;01mreturn\u001b[39;00m s\n",
      "\u001b[0;31mAttributeError\u001b[0m: 'float' object has no attribute 'replace'"
     ]
    }
   ],
   "source": [
    "# Caricamento e cleaning dataset risultati_elezioni_presidenziali_1_turno\n",
    "\n",
    "df_risultati_elezioni_presidenziali_1_turno = pd.read_csv(file_path_risultati_delle_elezioni_presidenziali_1_turno, sep=';', dtype={\"Code du département\": str, \"Code de la commune\": str, \"Code du b.vote\": str})\n",
    "df_risultati_elezioni_presidenziali_1_turno.rename(columns={\"Code du département\" : \"codice_dipartimento\", \"Libellé du département\" : \"nome_dipartimento\", \"Code de la circonscription\" : \"codice_circoscrizione\", \"Libellé de la circonscription\" : \"nome_circoscrizione\", \"Code de la commune\" : \"codice_comune\", \"Libellé de la commune\" : \"nome_comune\", \"Code du b.vote\" : \"codice_seggio_elettorale\", \"Inscrits\" : \"iscritti\", \"Abstentions\" : \"astenuti\", \"% Abs/Ins\" : \"% astenuti/iscritti\", \"Votants\" : \"votanti\", \"% Vot/Ins\" : \"% votanti/iscritti\", \"Blancs\" : \"bianche\", \"% Blancs/Ins\" : \"% bianche/iscritti\", \"% Blancs/Vot\" : \"% bianche/votanti\", \"Nuls\" : \"nulle\", \"% Nuls/Ins\" : \"% nulle/iscritti\", \"% Nuls/Vot\" : \"% nulle/votanti\", \"Exprimés\" : \"espressi\", \"% Exp/Ins\" : \"% espressi/iscritti\", \"% Exp/Vot\" : \"% espressi/votanti\", \"N°Panneau\" : \"pannello_numero\", \"Sexe\" : \"genere\", \"Nom\" : \"cognome\", \"Prénom\" : \"nome\", \"Nuance\" : \"tendenza_politica\", \"Voix\" : \"voti\", \"% Voix/Ins\" : \"% voti/iscritti\", \"% Voix/Exp\" : \"% voti/espressi\", \"Code Officiel EPCI\" : \"codice_EPCI\", \"Nom Officiel EPCI\" : \"nome_EPCI\", \"Code Officiel Région\" : \"codice_regione\", \"Nom Officiel Région\" : \"nome_regione\", \"location\" : \"coordinate\", \"lib_du_b_vote\" : \"etichetta_seggio_elettorale\", \"scrutin_code\" : \"codice_scrutinio\"}, inplace=True)\n",
    "new_ordered_columns = [\"codice_regione\",\"nome_regione\",\"codice_dipartimento\",\"nome_dipartimento\",\"codice_EPCI\", \"nome_EPCI\",\"codice_comune\",\"nome_comune\",\"codice_circoscrizione\",\"nome_circoscrizione\",\"codice_seggio_elettorale\",\"iscritti\",\"astenuti\",\"% astenuti/iscritti\",\"votanti\",\"% votanti/iscritti\",\"bianche\",\"% bianche/iscritti\",\"% bianche/votanti\",\"nulle\",\"% nulle/iscritti\",\"% nulle/votanti\",\"espressi\",\"% espressi/iscritti\",\"% espressi/votanti\",\"pannello_numero\",\"genere\",\"cognome\",\"nome\",\"tendenza_politica\",\"voti\",\"% voti/iscritti\",\"% voti/espressi\",\"coordinate\",\"etichetta_seggio_elettorale\",\"codice_scrutinio\"]\n",
    "df_risultati_elezioni_presidenziali_1_turno = df_risultati_elezioni_presidenziali_1_turno.reindex(columns=new_ordered_columns)\n",
    "df_risultati_elezioni_presidenziali_1_turno['% voti/espressi'] = df_risultati_elezioni_presidenziali_1_turno['% voti/espressi'].map(float_converter)\n",
    "df_risultati_elezioni_presidenziali_1_turno = df_risultati_elezioni_presidenziali_1_turno.astype({\"codice_regione\": \"Int64\", \"codice_EPCI\": \"Int64\", \"codice_circoscrizione\": \"Int64\", \"% voti/espressi\": np.float64}, errors='ignore')\n",
    "df_risultati_elezioni_presidenziali_1_turno = df_risultati_elezioni_presidenziali_1_turno.astype({\"codice_regione\": str, \"codice_EPCI\": str, \"codice_circoscrizione\": str})\n",
    "df_risultati_elezioni_presidenziali_1_turno.drop(['tendenza_politica'], axis=1, inplace=True)\n",
    "df_risultati_elezioni_presidenziali_1_turno.to_csv(file_path_risultati_elezioni_presidenziali_1_turno, index=False)\n",
    "df_risultati_elezioni_presidenziali_1_turno.head(10)"
   ]
  },
  {
   "cell_type": "code",
   "execution_count": null,
   "id": "5c6ed5d8",
   "metadata": {},
   "outputs": [],
   "source": [
    "# Caricamento e cleaning dataset risultati_elezioni_presidenziali_2_turno\n",
    "\n",
    "df_risultati_elezioni_presidenziali_2_turno = pd.read_csv(file_path_risultati_delle_elezioni_presidenziali_2_turno, sep=';', dtype={\"Code du département\": str, \"Code de la commune\": str, \"Code du b.vote\": str})\n",
    "df_risultati_elezioni_presidenziali_2_turno.rename(columns={\"Code du département\" : \"codice_dipartimento\", \"Libellé du département\" : \"nome_dipartimento\", \"Code de la circonscription\" : \"codice_circoscrizione\", \"Libellé de la circonscription\" : \"nome_circoscrizione\", \"Code de la commune\" : \"codice_comune\", \"Libellé de la commune\" : \"nome_comune\", \"Code du b.vote\" : \"codice_seggio_elettorale\", \"Inscrits\" : \"iscritti\", \"Abstentions\" : \"astenuti\", \"% Abs/Ins\" : \"% astenuti/iscritti\", \"Votants\" : \"votanti\", \"% Vot/Ins\" : \"% votanti/iscritti\", \"Blancs\" : \"bianche\", \"% Blancs/Ins\" : \"% bianche/iscritti\", \"% Blancs/Vot\" : \"% bianche/votanti\", \"Nuls\" : \"nulle\", \"% Nuls/Ins\" : \"% nulle/iscritti\", \"% Nuls/Vot\" : \"% nulle/votanti\", \"Exprimés\" : \"espressi\", \"% Exp/Ins\" : \"% espressi/iscritti\", \"% Exp/Vot\" : \"% espressi/votanti\", \"N°Panneau\" : \"pannello_numero\", \"Sexe\" : \"genere\", \"Nom\" : \"cognome\", \"Prénom\" : \"nome\", \"Nuance\" : \"tendenza_politica\", \"Voix\" : \"voti\", \"% Voix/Ins\" : \"% voti/iscritti\", \"% Voix/Exp\" : \"% voti/espressi\", \"Code Officiel EPCI\" : \"codice_EPCI\", \"Nom Officiel EPCI\" : \"nome_EPCI\", \"Code Officiel Région\" : \"codice_regione\", \"Nom Officiel Région\" : \"nome_regione\", \"location\" : \"coordinate\", \"lib_du_b_vote\" : \"etichetta_seggio_elettorale\", \"scrutin_code\" : \"codice_scrutinio\"}, inplace=True)\n",
    "new_ordered_columns = [\"codice_regione\",\"nome_regione\",\"codice_dipartimento\",\"nome_dipartimento\",\"codice_EPCI\", \"nome_EPCI\",\"codice_comune\",\"nome_comune\",\"codice_circoscrizione\",\"nome_circoscrizione\",\"codice_seggio_elettorale\",\"iscritti\",\"astenuti\",\"% astenuti/iscritti\",\"votanti\",\"% votanti/iscritti\",\"bianche\",\"% bianche/iscritti\",\"% bianche/votanti\",\"nulle\",\"% nulle/iscritti\",\"% nulle/votanti\",\"espressi\",\"% espressi/iscritti\",\"% espressi/votanti\",\"pannello_numero\",\"genere\",\"cognome\",\"nome\",\"tendenza_politica\",\"voti\",\"% voti/iscritti\",\"% voti/espressi\",\"coordinate\",\"etichetta_seggio_elettorale\",\"codice_scrutinio\"]\n",
    "df_risultati_elezioni_presidenziali_2_turno = df_risultati_elezioni_presidenziali_2_turno.reindex(columns=new_ordered_columns)\n",
    "df_risultati_elezioni_presidenziali_2_turno['% voti/espressi'] = df_risultati_elezioni_presidenziali_2_turno['% voti/espressi'].map(float_converter)\n",
    "df_risultati_elezioni_presidenziali_2_turno = df_risultati_elezioni_presidenziali_2_turno.astype({\"codice_regione\": \"Int64\", \"codice_EPCI\": \"Int64\", \"codice_circoscrizione\": \"Int64\", \"% voti/espressi\": np.float64}, errors='ignore')\n",
    "df_risultati_elezioni_presidenziali_2_turno = df_risultati_elezioni_presidenziali_2_turno.astype({\"codice_regione\": str, \"codice_EPCI\": str, \"codice_circoscrizione\": str})\n",
    "df_risultati_elezioni_presidenziali_2_turno.drop(['tendenza_politica'], axis=1, inplace=True)\n",
    "df_risultati_elezioni_presidenziali_2_turno.to_csv(file_path_risultati_elezioni_presidenziali_2_turno, index=False)\n",
    "df_risultati_elezioni_presidenziali_2_turno.head(10)"
   ]
  },
  {
   "cell_type": "code",
   "execution_count": null,
   "id": "b3920945",
   "metadata": {},
   "outputs": [],
   "source": [
    "# Caricamento e cleaning dataset disoccupazione\n",
    "\n",
    "df_disoccupazione = pd.read_csv(file_path_dati_sulla_disoccupazione, sep=';')\n",
    "df_disoccupazione.rename(columns={\"Période (Trimestre)\": \"periodo_trimestre\",\"Date\":\"data\",\"Catégorie\":\"categoria\",\"Tranche d'âge\":\"fascia_eta\",\"Nb moyen demandeur emploi\":\"numero_medio_persone_cercanti_lavoro\",\"Nb moyen demandeur emploi Homme\":\"numero_medio_uomini_cercanti_lavoro\",\"Nb moyen demandeur emploi Femme\":\"numero_medio_donne_cercanti_lavoro\",\"Différence Nb demandeur emploi trimestre précédent\":\"differenza_con_cercanti_lavoro_trimestre_prec\",\"Nb moyen entrées\":\"numero_medio_entrate\",\"Nb moyen sorties\":\"numero_medio_uscite\",\"Nb moyen demandeur emploi longue durée\":\"numero_medio_persone_cercanti_lavoro_lungo_termine\",\"Code Officiel Département\":\"codice_dipartimento\",\"Code Officiel Région\":\"codice_regione\",\"Nom Officiel Région\":\"nome_regione\",\"Code Iso 3166-3 Zone\":\"Code Iso 3166-3 Zona\",\"Nom Officiel Département\":\"nome_dipartimento\"}, inplace=True)\n",
    "new_ordered_columns = [\"periodo_trimestre\",\"data\",\"nome_regione\",\"codice_regione\",\"nome_dipartimento\",\"codice_dipartimento\",\"categoria\",\"fascia_eta\", \"numero_medio_persone_cercanti_lavoro\",\"numero_medio_persone_cercanti_lavoro_lungo_termine\",\"numero_medio_uomini_cercanti_lavoro\",\"numero_medio_donne_cercanti_lavoro\",\"differenza_con_cercanti_lavoro_trimestre_prec\",\"numero_medio_entrate\",\"numero_medio_uscite\",\"Code Iso 3166-3 Zona\"]\n",
    "df_disoccupazione = df_disoccupazione.reindex(columns=new_ordered_columns)\n",
    "df_disoccupazione.drop(['Code Iso 3166-3 Zona', 'periodo_trimestre'], axis=1, inplace=True)\n",
    "#df_disoccupazione.head(10)"
   ]
  },
  {
   "cell_type": "code",
   "execution_count": null,
   "id": "127fc2bd",
   "metadata": {},
   "outputs": [],
   "source": [
    "# Caricamento e cleaning dataset andamento_prezzi_carburanti\n",
    "\n",
    "df_andamento_prezzi_carburanti = pd.read_csv(file_path_andamento_dei_prezzi_dei_carburanti, sep=';', dtype={\"Code officiel commune ou arrondissement\": str, \"Nom Officiel Département\": str, \"Code Officiel Département\": str})\n",
    "df_andamento_prezzi_carburanti.rename(columns={\"Timetable\":\"orario\",\"Identifiant\":\"identificativo\",\"Code Postal\":\"cap\",\"Présence\":\"presenza\",\"Adresse\":\"indirizzo\",\"Nom Officiel Commune / Arrondissement Municipal Majuscule\":\"nome_comune\",\"Code officiel commune ou arrondissement\":\"codice_comune\",\"Nom Officiel Département\":\"nome_dipartimento\",\"Code Officiel Département\":\"codice_dipartimento\",\"Nom Officiel Région\":\"nome_regione\",\"Code Officiel Région\":\"codice_regione\",\"Nom Officiel EPCI\":\"nome_EPCI\",\"Code Officiel EPCI\":\"codice_EPCI\",\"Automate 24-24\":\"automatico\",\"Carburant\":\"carburante\",\"Rupture\":\"interruzione\",\"Mise à jour\":\"aggiornamento\",\"Prix Gazole\":\"prezzo_diesel\",\"Prix SP95\":\"prezzo_SP95\",\"Prix SP98\":\"prezzo_SP98\",\"Prix GPLc\":\"prezzo_GPLc\",\"Prix E10\":\"prezzo_E10\",\"Prix E85\":\"prezzo_E85\",\"Services\":\"servizi\",\"Marque\":\"marca\",\"Nom\":\"nome\",\"Geo Point\":\"punto_geografico\"}, inplace=True)\n",
    "new_ordered_columns = [\"orario\",\"identificativo\",\"cap\",\"presenza\",\"indirizzo\",\"nome_regione\",\"codice_regione\",\"nome_dipartimento\",\"codice_dipartimento\",\"nome_EPCI\",\"codice_EPCI\",\"nome_comune\",\"codice_comune\",\"automatico\",\"carburante\",\"interruzione\",\"aggiornamento\",\"prezzo_diesel\",\"prezzo_SP95\",\"prezzo_SP98\",\"prezzo_GPLc\",\"prezzo_E10\",\"prezzo_E85\",\"servizi\",\"marca\",\"nome\",\"punto_geografico\"]\n",
    "df_andamento_prezzi_carburanti = df_andamento_prezzi_carburanti.reindex(columns=new_ordered_columns)\n",
    "#df_andamento_prezzi_carburanti.head(10)"
   ]
  },
  {
   "cell_type": "code",
   "execution_count": null,
   "id": "6ce841de",
   "metadata": {},
   "outputs": [],
   "source": [
    "# Query n.1\n",
    "\n",
    "# • I 20 dipartimenti con la maggiore percentuale di voti per Macron\n",
    "#     • Primo e secondo turno\n",
    "\n",
    "mask = (df_risultati_elezioni_presidenziali_1_turno['nome_regione'] == 'Hauts-de-France') | \\\n",
    "       (df_risultati_elezioni_presidenziali_1_turno['nome_regione'] == 'Grand Est') | \\\n",
    "       (df_risultati_elezioni_presidenziali_1_turno['nome_regione'] == 'Île-de-France') | \\\n",
    "       (df_risultati_elezioni_presidenziali_1_turno['nome_regione'] == 'Normandie') | \\\n",
    "       (df_risultati_elezioni_presidenziali_1_turno['nome_regione'] == 'Bretagne') | \\\n",
    "       (df_risultati_elezioni_presidenziali_1_turno['nome_regione'] == 'Bourgogne-Franche-Comté') | \\\n",
    "       (df_risultati_elezioni_presidenziali_1_turno['nome_regione'] == 'Centre-Val de Loire')\n",
    "df_risultati_elezioni_presidenziali_1_turno = df_risultati_elezioni_presidenziali_1_turno[mask]\n",
    "df_risultati_elezioni_presidenziali_1_turno.reset_index(drop=True, inplace=True)\n",
    "\n",
    "# Raggruppa i dati sulle colonne 'nome_dipartimento' e 'cognome' e ottiene la somma dei valori della colonna 'voti' e della colonna 'espressi'\n",
    "df_final = df_risultati_elezioni_presidenziali_1_turno.groupby(['nome_dipartimento', 'cognome'], as_index=False)[['voti','espressi']].sum()\n",
    "df_final = df_final[df_final['cognome']=='MACRON']\n",
    "df_final['% voti_a_favore/voti_totali'] = df_final.apply(percentage_calculator, axis=1)\n",
    "df_final = df_final.sort_values(by=\"% voti_a_favore/voti_totali\",ascending=False)\n",
    "df_final.reset_index(drop=True, inplace=True)\n",
    "df_query_1_turno = df_final[:20]\n",
    "display(df_query_1_turno)\n",
    "lista_dipartimenti_1_turno = df_query_1_turno[\"nome_dipartimento\"].values.tolist()\n",
    "display(lista_dipartimenti_1_turno)\n",
    "\n",
    "\n",
    "\n",
    "mask = (df_risultati_elezioni_presidenziali_2_turno['nome_regione'] == 'Hauts-de-France') | \\\n",
    "       (df_risultati_elezioni_presidenziali_2_turno['nome_regione'] == 'Grand Est') | \\\n",
    "       (df_risultati_elezioni_presidenziali_2_turno['nome_regione'] == 'Île-de-France') | \\\n",
    "       (df_risultati_elezioni_presidenziali_2_turno['nome_regione'] == 'Normandie') | \\\n",
    "       (df_risultati_elezioni_presidenziali_2_turno['nome_regione'] == 'Bretagne') | \\\n",
    "       (df_risultati_elezioni_presidenziali_2_turno['nome_regione'] == 'Bourgogne-Franche-Comté') | \\\n",
    "       (df_risultati_elezioni_presidenziali_2_turno['nome_regione'] == 'Centre-Val de Loire')\n",
    "df_risultati_elezioni_presidenziali_2_turno = df_risultati_elezioni_presidenziali_2_turno[mask]\n",
    "df_risultati_elezioni_presidenziali_2_turno.reset_index(drop=True, inplace=True)\n",
    "\n",
    "# Raggruppa i dati sulle colonne 'nome_dipartimento' e 'cognome' e ottiene la somma dei valori della colonna 'voti' e della colonna 'espressi'\n",
    "df_final = df_risultati_elezioni_presidenziali_2_turno.groupby(['nome_dipartimento', 'cognome'], as_index=False)[['voti','espressi']].sum()\n",
    "df_final = df_final[df_final['cognome']=='MACRON']\n",
    "df_final['% voti_a_favore/voti_totali'] = df_final.apply(percentage_calculator, axis=1)\n",
    "df_final = df_final.sort_values(by=\"% voti_a_favore/voti_totali\",ascending=False)\n",
    "df_final.reset_index(drop=True, inplace=True)\n",
    "df_query_2_turno = df_final[:20]\n",
    "display(df_query_2_turno)\n",
    "lista_dipartimenti_2_turno = df_query_2_turno[\"nome_dipartimento\"].values.tolist()\n",
    "display(lista_dipartimenti_2_turno)"
   ]
  },
  {
   "cell_type": "code",
   "execution_count": null,
   "id": "0ca5fc80",
   "metadata": {},
   "outputs": [],
   "source": [
    "# Query n.2\n",
    "\n",
    "# I 20 dipartimenti con la minore percentuale di voti per Macron\n",
    "#     • Primo e secondo turno\n",
    "\n",
    "mask = (df_risultati_elezioni_presidenziali_1_turno['nome_regione'] == 'Hauts-de-France') | \\\n",
    "       (df_risultati_elezioni_presidenziali_1_turno['nome_regione'] == 'Grand Est') | \\\n",
    "       (df_risultati_elezioni_presidenziali_1_turno['nome_regione'] == 'Île-de-France') | \\\n",
    "       (df_risultati_elezioni_presidenziali_1_turno['nome_regione'] == 'Normandie') | \\\n",
    "       (df_risultati_elezioni_presidenziali_1_turno['nome_regione'] == 'Bretagne') | \\\n",
    "       (df_risultati_elezioni_presidenziali_1_turno['nome_regione'] == 'Bourgogne-Franche-Comté') | \\\n",
    "       (df_risultati_elezioni_presidenziali_1_turno['nome_regione'] == 'Centre-Val de Loire')\n",
    "df_risultati_elezioni_presidenziali_1_turno = df_risultati_elezioni_presidenziali_1_turno[mask]\n",
    "df_risultati_elezioni_presidenziali_1_turno.reset_index(drop=True, inplace=True)\n",
    "\n",
    "# Raggruppa i dati sulle colonne 'nome_dipartimento' e 'cognome' e ottiene la somma dei valori della colonna 'voti' e della colonna 'espressi'\n",
    "df_final = df_risultati_elezioni_presidenziali_1_turno.groupby(['nome_dipartimento', 'cognome'], as_index=False)[['voti','espressi']].sum()\n",
    "df_final = df_final[df_final['cognome']=='MACRON']\n",
    "df_final['% voti_a_favore/voti_totali'] = df_final.apply(percentage_calculator, axis=1)\n",
    "df_final = df_final.sort_values(by=\"% voti_a_favore/voti_totali\",ascending=False)\n",
    "df_final.reset_index(drop=True, inplace=True)\n",
    "df_query_1_turno = df_final[-20:]\n",
    "display(df_query_1_turno)\n",
    "lista_dipartimenti_1_turno = df_query_1_turno[\"nome_dipartimento\"].values.tolist()\n",
    "display(lista_dipartimenti_1_turno)\n",
    "\n",
    "\n",
    "\n",
    "mask = (df_risultati_elezioni_presidenziali_2_turno['nome_regione'] == 'Hauts-de-France') | \\\n",
    "       (df_risultati_elezioni_presidenziali_2_turno['nome_regione'] == 'Grand Est') | \\\n",
    "       (df_risultati_elezioni_presidenziali_2_turno['nome_regione'] == 'Île-de-France') | \\\n",
    "       (df_risultati_elezioni_presidenziali_2_turno['nome_regione'] == 'Normandie') | \\\n",
    "       (df_risultati_elezioni_presidenziali_2_turno['nome_regione'] == 'Bretagne') | \\\n",
    "       (df_risultati_elezioni_presidenziali_2_turno['nome_regione'] == 'Bourgogne-Franche-Comté') | \\\n",
    "       (df_risultati_elezioni_presidenziali_2_turno['nome_regione'] == 'Centre-Val de Loire')\n",
    "df_risultati_elezioni_presidenziali_2_turno = df_risultati_elezioni_presidenziali_2_turno[mask]\n",
    "df_risultati_elezioni_presidenziali_2_turno.reset_index(drop=True, inplace=True)\n",
    "\n",
    "# Raggruppa i dati sulle colonne 'nome_dipartimento' e 'cognome' e ottiene la somma dei valori della colonna 'voti' e della colonna 'espressi'\n",
    "df_final = df_risultati_elezioni_presidenziali_2_turno.groupby(['nome_dipartimento', 'cognome'], as_index=False)[['voti','espressi']].sum()\n",
    "df_final = df_final[df_final['cognome']=='MACRON']\n",
    "df_final['% voti_a_favore/voti_totali'] = df_final.apply(percentage_calculator, axis=1)\n",
    "df_final = df_final.sort_values(by=\"% voti_a_favore/voti_totali\",ascending=False)\n",
    "df_final.reset_index(drop=True, inplace=True)\n",
    "df_query_2_turno = df_final[-20:]\n",
    "display(df_query_2_turno)\n",
    "lista_dipartimenti_2_turno = df_query_2_turno[\"nome_dipartimento\"].values.tolist()\n",
    "display(lista_dipartimenti_2_turno)"
   ]
  },
  {
   "cell_type": "code",
   "execution_count": null,
   "id": "33123f64",
   "metadata": {},
   "outputs": [],
   "source": [
    "# Query n.3"
   ]
  },
  {
   "cell_type": "code",
   "execution_count": null,
   "id": "35821f53",
   "metadata": {},
   "outputs": [],
   "source": [
    "# Query n.4"
   ]
  },
  {
   "cell_type": "code",
   "execution_count": null,
   "id": "5a32b525",
   "metadata": {},
   "outputs": [],
   "source": [
    "# Query n.5"
   ]
  },
  {
   "cell_type": "code",
   "execution_count": null,
   "id": "9bddb191",
   "metadata": {},
   "outputs": [],
   "source": [
    "# Query n.6\n",
    "#I 20 dipartimenti con la maggiore disoccupazione\n",
    "\n",
    "mask = (df_disoccupazione['nome_regione'] == 'Hauts-de-France') | \\\n",
    "       (df_disoccupazione['nome_regione'] == 'Grand Est') | \\\n",
    "       (df_disoccupazione['nome_regione'] == 'Île-de-France') | \\\n",
    "       (df_disoccupazione['nome_regione'] == 'Normandie') | \\\n",
    "       (df_disoccupazione['nome_regione'] == 'Bretagne') | \\\n",
    "       (df_disoccupazione['nome_regione'] == 'Bourgogne-Franche-Comté') | \\\n",
    "       (df_disoccupazione['nome_regione'] == 'Centre-Val de Loire')\n",
    "df_disoccupazione = df_disoccupazione[mask]\n",
    "df_disoccupazione.reset_index(drop=True, inplace=True)\n",
    "\n",
    "#seleziono i dati riguardanti il 2022\n",
    "dati_2022 = df_disoccupazione[pd.to_datetime(df_disoccupazione['data']).dt.year == 2022]\n",
    "\n",
    "#definisco una funzione per ottenere i primi 20 dipartimenti con la maggior disoccupazione per ciascun gruppo\n",
    "def get_top_20_departments(group):\n",
    "    return group.nlargest(20, 'numero_medio_persone_cercanti_lavoro')\n",
    "\n",
    "# Calcolo i primi 20 dipartimenti con la maggior disoccupazione per ciascun trimestre del 2022\n",
    "df_final = dati_2022.groupby('data').apply(get_top_20_departments).reset_index(drop=True)\n",
    "\n",
    "display(df_final)"
   ]
  },
  {
   "cell_type": "code",
   "execution_count": null,
   "id": "51495167",
   "metadata": {},
   "outputs": [],
   "source": [
    "# Query n.7\n",
    "#I 20 dipartimenti con la minore disoccupazione\n",
    "\n",
    "mask = (df_disoccupazione['nome_regione'] == 'Hauts-de-France') | \\\n",
    "       (df_disoccupazione['nome_regione'] == 'Grand Est') | \\\n",
    "       (df_disoccupazione['nome_regione'] == 'Île-de-France') | \\\n",
    "       (df_disoccupazione['nome_regione'] == 'Normandie') | \\\n",
    "       (df_disoccupazione['nome_regione'] == 'Bretagne') | \\\n",
    "       (df_disoccupazione['nome_regione'] == 'Bourgogne-Franche-Comté') | \\\n",
    "       (df_disoccupazione['nome_regione'] == 'Centre-Val de Loire')\n",
    "df_disoccupazione = df_disoccupazione[mask]\n",
    "df_disoccupazione.reset_index(drop=True, inplace=True)\n",
    "\n",
    "#seleziono i dati riguardanti il 2022\n",
    "dati_2022 = df_disoccupazione[pd.to_datetime(df_disoccupazione['data']).dt.year == 2022]\n",
    "\n",
    "#definisco una funzione per ottenere i primi 20 dipartimenti con la minor disoccupazione per ciascun gruppo\n",
    "def get_bottom_20_departments(group):\n",
    "    return group.nsmallest(20, 'numero_medio_persone_cercanti_lavoro')\n",
    "\n",
    "# Calcolo i primi 20 dipartimenti con la minor disoccupazione per ciascun trimestre del 2022\n",
    "df_final = dati_2022.groupby('data').apply(get_bottom_20_departments).reset_index(drop=True)\n",
    "\n",
    "display(df_final)"
   ]
  },
  {
   "cell_type": "code",
   "execution_count": null,
   "id": "094ca83b",
   "metadata": {},
   "outputs": [],
   "source": [
    "# Query n.8"
   ]
  },
  {
   "cell_type": "code",
   "execution_count": null,
   "id": "70269978",
   "metadata": {},
   "outputs": [],
   "source": [
    "# Query n.9"
   ]
  },
  {
   "cell_type": "code",
   "execution_count": null,
   "id": "7f66da4c",
   "metadata": {},
   "outputs": [],
   "source": [
    "# Query n.10"
   ]
  },
  {
   "cell_type": "code",
   "execution_count": null,
   "id": "9843b567",
   "metadata": {},
   "outputs": [],
   "source": [
    "# Query n.11"
   ]
  },
  {
   "cell_type": "code",
   "execution_count": null,
   "id": "abf5c24e",
   "metadata": {},
   "outputs": [],
   "source": [
    "# Query n.12"
   ]
  },
  {
   "cell_type": "code",
   "execution_count": null,
   "id": "a254d429",
   "metadata": {},
   "outputs": [],
   "source": [
    "# Query n.13"
   ]
  },
  {
   "cell_type": "code",
   "execution_count": null,
   "id": "17be3a8e",
   "metadata": {},
   "outputs": [],
   "source": [
    "# Query n.14"
   ]
  }
 ],
 "metadata": {
  "kernelspec": {
   "display_name": "Python 3 (ipykernel)",
   "language": "python",
   "name": "python3"
  },
  "language_info": {
   "codemirror_mode": {
    "name": "ipython",
    "version": 3
   },
   "file_extension": ".py",
   "mimetype": "text/x-python",
   "name": "python",
   "nbconvert_exporter": "python",
   "pygments_lexer": "ipython3",
   "version": "3.10.11"
  }
 },
 "nbformat": 4,
 "nbformat_minor": 5
}

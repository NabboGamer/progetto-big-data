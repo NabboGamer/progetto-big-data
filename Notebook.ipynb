{
 "cells": [
  {
   "cell_type": "code",
   "execution_count": null,
   "id": "1871cd02",
   "metadata": {},
   "outputs": [],
   "source": [
    "import json\n",
    "\n",
    "import numpy as np\n",
    "\n",
    "import pandas as pd\n",
    "\n",
    "from IPython.display import display"
   ]
  },
  {
   "cell_type": "code",
   "execution_count": null,
   "id": "a1533994",
   "metadata": {},
   "outputs": [],
   "source": [
    "# Configurazione opzioni Pandas\n",
    "\n",
    "pd.set_option('display.max_columns', None)"
   ]
  },
  {
   "cell_type": "code",
   "execution_count": null,
   "id": "ca48db4c",
   "metadata": {},
   "outputs": [],
   "source": [
    "# Definizione funzioni ausiliarie\n",
    "\n",
    "def float_converter(s):\n",
    "    s = s.replace(\",\", \".\")\n",
    "    return s\n",
    "\n",
    "def percentage_calculator(row):\n",
    "    if(row['espressi'] == 0):\n",
    "        return 0\n",
    "    else:\n",
    "        return row['voti']/row['espressi']"
   ]
  },
  {
   "cell_type": "code",
   "execution_count": null,
   "id": "18fd4205",
   "metadata": {
    "jupyter": {
     "outputs_hidden": false
    }
   },
   "outputs": [],
   "source": [
    "# Filtro dataset per regioni\n",
    "\n",
    "def filtra_dataset_per_regioni(file_path_dataset, sep=';', dtype={}):\n",
    "    df_dataset = pd.read_csv(file_path_dataset, sep=sep, dtype=dtype)\n",
    "    mask = (df_dataset['Nom Officiel Région'] == 'Hauts-de-France') | \\\n",
    "           (df_dataset['Nom Officiel Région'] == 'Grand Est') | \\\n",
    "           (df_dataset['Nom Officiel Région'] == 'Île-de-France') | \\\n",
    "           (df_dataset['Nom Officiel Région'] == 'Normandie') | \\\n",
    "           (df_dataset['Nom Officiel Région'] == 'Bretagne') | \\\n",
    "           (df_dataset['Nom Officiel Région'] == 'Bourgogne-Franche-Comté') | \\\n",
    "           (df_dataset['Nom Officiel Région'] == 'Centre-Val de Loire')\n",
    "    df_dataset = df_dataset[mask]\n",
    "    df_dataset.reset_index(drop=True, inplace=True)\n",
    "    return df_dataset"
   ]
  },
  {
   "cell_type": "code",
   "execution_count": null,
   "id": "f5c71bf8",
   "metadata": {},
   "outputs": [],
   "source": [
    "# Leggo il file di configurazione\n",
    "with open('config/config.json') as f:\n",
    "    config_data = json.load(f)\n",
    "\n",
    "# Ottengo i percorsi dei file\n",
    "file_path_vaccinazioni_covid = config_data['path_covid_19_france_vaccinations_age_sexe_dep']\n",
    "file_path_andamento_dei_prezzi_al_consumo = config_data['path_economicref_france_indice_prix_consommation']\n",
    "file_path_risultati_delle_elezioni_legislative_1_turno = config_data['path_elections_france_legislatives_2022_1er_tour_par_bureau_de_vote']\n",
    "file_path_risultati_delle_elezioni_legislative_2_turno = config_data['path_elections_france_legislatives_2022_2nd_tour_par_bureau_de_vote']\n",
    "file_path_risultati_delle_elezioni_presidenziali_1_turno = config_data['path_elections_france_presidentielles_2022_1er_tour_par_bureau_de_vote']\n",
    "file_path_risultati_delle_elezioni_presidenziali_2_turno = config_data['path_elections_france_presidentielles_2022_2nd_tour_par_bureau_de_vote']\n",
    "file_path_dati_sulla_disoccupazione = config_data['path_labouref_france_departement_quarter_jobseeker']\n",
    "file_path_andamento_dei_prezzi_dei_carburanti = config_data['path_prix_des_carburants_j_1_001']\n",
    "\n",
    "file_path_risultati_elezioni_presidenziali_1_turno = config_data['path_risultati_elezioni_presidenziali_1_turno']\n",
    "file_path_risultati_elezioni_presidenziali_2_turno = config_data['path_risultati_elezioni_presidenziali_2_turno']\n",
    "\n",
    "file_path_reddito_per_dipartimenti = config_data['path_departements_plus_riches_de_france']"
   ]
  },
  {
   "cell_type": "code",
   "execution_count": null,
   "id": "a6fd82c7",
   "metadata": {},
   "outputs": [],
   "source": [
    "# Caricamento e cleaning dataset vaccinazioni_covid\n",
    "\n",
    "df_vaccinazioni_covid = filtra_dataset_per_regioni(file_path_vaccinazioni_covid)\n",
    "df_vaccinazioni_covid.rename(columns={\"Date\": \"data\", \"Nombre de doses n°1\": \"numero_prime_dosi\", \"Nombre cumulé de doses n°1\":\"numero_cumulativo_prime_dosi\", \"Type de variable\":\"tipo_variabile\",\"Valeur de la variable\":\"valore_variabile\",\"Libellé de la variable\":\"etichetta_variabile\", \"Nom Officiel Département\":\"nome_dipartimento\", \"Code Officiel Région\":\"codice_regione\", \"Nom Officiel Région\":\"nome_regione\", \"Code Officiel Département\":\"codice_dipartimento\", \"Nombre de vaccinations complètes (doses n°2)\":\"numero_seconde_dosi\", \"Nombre de personnes vaccinées avec une dose de rappel (3e dose)\":\"numero_terze_dosi\", \"Nombre de personnes vaccinées avec une deuxième dose de rappel (4e dose)\":\"numero_quarte_dosi\", \"Nombre de doses de rappel bivalent\":\"numero_dosi_bivalenti\", \"Nombre de personnes ayant reçu une troisième dose de rappel\":\"numero_persone_terza_dose\", \"Nombre cumulé de vaccinations complètes (doses n°2)\":\"numero_cumulativo_seconde_dosi\", \"Nombre cumulé de personnes vaccinées avec une dose de rappel (3e dose)\":\"numero_cumulativo_terze_dosi\", \"Nombre cumulé de personnes vaccinées avec une deuxième dose de rappel (4e dose)\":\"numero_cumulativo_quarte_dosi\", \"Nombre cumulé de personnes vaccinées avec une dose de rappel bivalent\":\"numero_cumulativo_dosi_bivalenti\", \"Nombre cumulé de personnes ayant reçu une troisième dose de rappel\":\"numero_cumulativo_persone_terza_dose_richiamo\", \"Couverture vaccinale partielle (dose n°1)\":\"copertura_vaccinale_prima_dose\", \"Couverture vaccinale complète (dose n°2)\":\"copertura_vaccinale_seconda_dose\", \"Couverture vaccinale rappel/3e dose\":\"copertura_vaccinale_terza_dose\", \"Couverture vaccinale 2e rappel/4e dose\":\"copertura_vaccinale_quarta_dose\", \"Couverture vaccinale du rappel bivalent\":\"copertura_vaccinale_dose_bivalente\", \"Couverture vaccinale de la troisième dose de rappel\":\"copertura_vaccinale_terza_dose_richiamo\"}, inplace=True)\n",
    "df_vaccinazioni_covid.drop(['numero_persone_terza_dose','numero_cumulativo_persone_terza_dose_richiamo', 'copertura_vaccinale_terza_dose_richiamo'], axis=1, inplace=True)\n",
    "new_ordered_columns = [\"data\",\"nome_regione\",\"codice_regione\",\"nome_dipartimento\",\"codice_dipartimento\",\"tipo_variabile\",\"etichetta_variabile\",\"valore_variabile\",\"numero_prime_dosi\",\"numero_seconde_dosi\",\"numero_terze_dosi\",\"numero_quarte_dosi\",\"numero_cumulativo_prime_dosi\",\"numero_cumulativo_seconde_dosi\",\"numero_cumulativo_terze_dosi\",\"numero_cumulativo_quarte_dosi\",\"numero_dosi_bivalenti\",\"numero_cumulativo_dosi_bivalenti\", \"copertura_vaccinale_prima_dose\", \"copertura_vaccinale_seconda_dose\", \"copertura_vaccinale_terza_dose\", \"copertura_vaccinale_quarta_dose\", \"copertura_vaccinale_dose_bivalente\"]\n",
    "df_vaccinazioni_covid = df_vaccinazioni_covid.reindex(columns=new_ordered_columns)\n",
    "df_vaccinazioni_covid = df_vaccinazioni_covid.astype({\"codice_dipartimento\": \"Int64\"}, errors='ignore')\n",
    "df_vaccinazioni_covid = df_vaccinazioni_covid.astype({\"codice_dipartimento\": str})\n",
    "# df_vaccinazioni_covid.head(10)"
   ]
  },
  {
   "cell_type": "code",
   "execution_count": null,
   "id": "776aaed8",
   "metadata": {},
   "outputs": [],
   "source": [
    "# Caricamento e cleaning dataset andamento_prezzi_consumo\n",
    "\n",
    "df_andamento_prezzi_consumo = pd.read_csv(file_path_andamento_dei_prezzi_al_consumo, sep=';')\n",
    "df_andamento_prezzi_consumo.rename(columns={\"Période\" : \"periodo\", \"Indice\" : \"suggerimento\", \"Valeur\": \"valore\",\"Code\" : \"codice\",\"Type\" : \"tipo\",\"Sous-type\" : \"sottotipo\", \"Base\" : \"base\", \"Population\" : \"popolazione\", \"Zone concernée\" : \"zona_interessata\", \"Code COICOP\" : \"codice_COICOP\", \"Désignation COICOP\" : \"designazione_COICOP\", \"Série arrêtée\" : \"serie_interrotta\", \"Référence INSEE\" : \"riferimento_INSEE\"}, inplace=True)\n",
    "#df_andamento_prezzi_consumo.head(10)"
   ]
  },
  {
   "cell_type": "code",
   "execution_count": null,
   "id": "cff909ce",
   "metadata": {},
   "outputs": [],
   "source": [
    "# Caricamento e cleaning dataset risultati_elezioni_legislative_1_turno\n",
    "\n",
    "df_risultati_elezioni_legislative_1_turno = filtra_dataset_per_regioni(file_path_risultati_delle_elezioni_legislative_1_turno, dtype={\"Code du département\": str, \"Code de la commune\": str, \"Code du b.vote\": str})\n",
    "df_risultati_elezioni_legislative_1_turno.rename(columns={\"Code du département\" : \"codice_dipartimento\", \"Libellé du département\" : \"nome_dipartimento\", \"Code de la circonscription\" : \"codice_della_circoscrizione\", \"Libellé de la circonscription\" : \"nome_della_circoscrizione\", \"Code de la commune\" : \"codice_del_comune\", \"Libellé de la commune\" : \"nome_del_comune\", \"Code du b.vote\" : \"codice_del_seggio_elettorale\", \"Inscrits\" : \"iscritti\", \"Abstentions\" : \"astenuti\", \"% Abs/Ins\" : \"% astenuti/iscritti\", \"Votants\" : \"votanti\", \"% Vot/Ins\" : \"% votanti/iscritti\", \"Blancs\" : \"bianche\", \"% Blancs/Ins\" : \"% bianche/iscritti\", \"% Blancs/Vot\" : \"% bianche/votanti\", \"Nuls\" : \"nulle\", \"% Nuls/Ins\" : \"% nulle/iscritti\", \"% Nuls/Vot\" : \"% nulle/votanti\", \"Exprimés\" : \"espressi\", \"% Exp/Ins\" : \"% espressi/iscritti\", \"% Exp/Vot\" : \"% espressi/votanti\", \"N°Panneau\" : \"pannello_numero\", \"Sexe\" : \"genere\", \"Nom\" : \"cognome\", \"Prénom\" : \"nome\", \"Nuance\" : \"partito\", \"Voix\" : \"voti\", \"% Voix/Ins\" : \"% voti/iscritti\", \"% Voix/Exp\" : \"% voti/iscritti\", \"Code Officiel EPCI\" : \"codice_ufficiale_EPCI\", \"Nom Officiel EPCI\" : \"nome_ufficiale_dello_EPCI\", \"Code Officiel Région\" : \"codice_ufficiale_regionale\", \"Nom Officiel Région\" : \"nome_ufficiale_regionale\", \"location\" : \"coordinate\", \"lib_du_b_vote\" : \"etichetta_del_seggio_elettorale\", \"scrutin_code\" : \"codice_scrutinio\"}, inplace=True)\n",
    "#df_risultati_elezioni_legislative_1_turno.head(10)"
   ]
  },
  {
   "cell_type": "code",
   "execution_count": null,
   "id": "a0db5b09",
   "metadata": {},
   "outputs": [],
   "source": [
    "# Caricamento e cleaning dataset risultati_elezioni_legislative_2_turno\n",
    "\n",
    "df_risultati_elezioni_legislative_2_turno = filtra_dataset_per_regioni(file_path_risultati_delle_elezioni_legislative_2_turno, dtype={\"Code du département\": str, \"Code de la commune\": str, \"Code du b.vote\": str})\n",
    "df_risultati_elezioni_legislative_2_turno.rename(columns={\"Code du département\" : \"codice_dipartimento\", \"Libellé du département\" : \"nome_dipartimento\", \"Code de la circonscription\" : \"codice_della_circoscrizione\", \"Libellé de la circonscription\" : \"nome_della_circoscrizione\", \"Code de la commune\" : \"codice_del_comune\", \"Libellé de la commune\" : \"nome_del_comune\", \"Code du b.vote\" : \"codice_del_seggio_elettorale\", \"Inscrits\" : \"iscritti\", \"Abstentions\" : \"astenuti\", \"% Abs/Ins\" : \"% astenuti/iscritti\", \"Votants\" : \"votanti\", \"% Vot/Ins\" : \"% votanti/iscritti\", \"Blancs\" : \"bianche\", \"% Blancs/Ins\" : \"% bianche/iscritti\", \"% Blancs/Vot\" : \"% bianche/votanti\", \"Nuls\" : \"nulle\", \"% Nuls/Ins\" : \"% nulle/iscritti\", \"% Nuls/Vot\" : \"% nulle/votanti\", \"Exprimés\" : \"espressi\", \"% Exp/Ins\" : \"% espressi/iscritti\", \"% Exp/Vot\" : \"% espressi/votanti\", \"N°Panneau\" : \"pannello_numero\", \"Sexe\" : \"genere\", \"Nom\" : \"cognome\", \"Prénom\" : \"nome\", \"Nuance\" : \"partito\", \"Voix\" : \"voti\", \"% Voix/Ins\" : \"% voti/iscritti\", \"% Voix/Exp\" : \"% voti/iscritti\", \"Code Officiel EPCI\" : \"codice_ufficiale_EPCI\", \"Nom Officiel EPCI\" : \"nome_ufficiale_dello_EPCI\", \"Code Officiel Région\" : \"codice_ufficiale_regionale\", \"Nom Officiel Région\" : \"nome_ufficiale_regionale\", \"location\" : \"coordinate\", \"lib_du_b_vote\" : \"etichetta_del_seggio_elettorale\", \"scrutin_code\" : \"codice_scrutinio\"}, inplace=True)\n",
    "#df_risultati_elezioni_legislative_2_turno.head(10)"
   ]
  },
  {
   "cell_type": "code",
   "execution_count": null,
   "id": "ab500c6a",
   "metadata": {},
   "outputs": [],
   "source": [
    "# Caricamento e cleaning dataset risultati_elezioni_presidenziali_1_turno\n",
    "\n",
    "df_risultati_elezioni_presidenziali_1_turno = filtra_dataset_per_regioni(file_path_risultati_delle_elezioni_presidenziali_1_turno, dtype={\"Code du département\": str, \"Code de la commune\": str, \"Code du b.vote\": str})\n",
    "df_risultati_elezioni_presidenziali_1_turno.rename(columns={\"Code du département\" : \"codice_dipartimento\", \"Libellé du département\" : \"nome_dipartimento\", \"Code de la circonscription\" : \"codice_circoscrizione\", \"Libellé de la circonscription\" : \"nome_circoscrizione\", \"Code de la commune\" : \"codice_comune\", \"Libellé de la commune\" : \"nome_comune\", \"Code du b.vote\" : \"codice_seggio_elettorale\", \"Inscrits\" : \"iscritti\", \"Abstentions\" : \"astenuti\", \"% Abs/Ins\" : \"% astenuti/iscritti\", \"Votants\" : \"votanti\", \"% Vot/Ins\" : \"% votanti/iscritti\", \"Blancs\" : \"bianche\", \"% Blancs/Ins\" : \"% bianche/iscritti\", \"% Blancs/Vot\" : \"% bianche/votanti\", \"Nuls\" : \"nulle\", \"% Nuls/Ins\" : \"% nulle/iscritti\", \"% Nuls/Vot\" : \"% nulle/votanti\", \"Exprimés\" : \"espressi\", \"% Exp/Ins\" : \"% espressi/iscritti\", \"% Exp/Vot\" : \"% espressi/votanti\", \"N°Panneau\" : \"pannello_numero\", \"Sexe\" : \"genere\", \"Nom\" : \"cognome\", \"Prénom\" : \"nome\", \"Nuance\" : \"partito\", \"Voix\" : \"voti\", \"% Voix/Ins\" : \"% voti/iscritti\", \"% Voix/Exp\" : \"% voti/espressi\", \"Code Officiel EPCI\" : \"codice_EPCI\", \"Nom Officiel EPCI\" : \"nome_EPCI\", \"Code Officiel Région\" : \"codice_regione\", \"Nom Officiel Région\" : \"nome_regione\", \"location\" : \"coordinate\", \"lib_du_b_vote\" : \"etichetta_seggio_elettorale\", \"scrutin_code\" : \"codice_scrutinio\"}, inplace=True)\n",
    "new_ordered_columns = [\"codice_regione\",\"nome_regione\",\"codice_dipartimento\",\"nome_dipartimento\",\"codice_EPCI\", \"nome_EPCI\",\"codice_comune\",\"nome_comune\",\"codice_circoscrizione\",\"nome_circoscrizione\",\"codice_seggio_elettorale\",\"iscritti\",\"astenuti\",\"% astenuti/iscritti\",\"votanti\",\"% votanti/iscritti\",\"bianche\",\"% bianche/iscritti\",\"% bianche/votanti\",\"nulle\",\"% nulle/iscritti\",\"% nulle/votanti\",\"espressi\",\"% espressi/iscritti\",\"% espressi/votanti\",\"pannello_numero\",\"genere\",\"cognome\",\"nome\",\"partito\",\"voti\",\"% voti/iscritti\",\"% voti/espressi\",\"coordinate\",\"etichetta_seggio_elettorale\",\"codice_scrutinio\"]\n",
    "df_risultati_elezioni_presidenziali_1_turno = df_risultati_elezioni_presidenziali_1_turno.reindex(columns=new_ordered_columns)\n",
    "df_risultati_elezioni_presidenziali_1_turno['% voti/espressi'] = df_risultati_elezioni_presidenziali_1_turno['% voti/espressi'].map(float_converter)\n",
    "df_risultati_elezioni_presidenziali_1_turno = df_risultati_elezioni_presidenziali_1_turno.astype({\"codice_regione\": \"Int64\", \"codice_EPCI\": \"Int64\", \"codice_circoscrizione\": \"Int64\", \"% voti/espressi\": np.float64}, errors='ignore')\n",
    "df_risultati_elezioni_presidenziali_1_turno = df_risultati_elezioni_presidenziali_1_turno.astype({\"codice_regione\": str, \"codice_EPCI\": str, \"codice_circoscrizione\": str})\n",
    "df_risultati_elezioni_presidenziali_1_turno.to_csv(file_path_risultati_elezioni_presidenziali_1_turno, index=False)\n",
    "#df_risultati_elezioni_presidenziali_1_turno.head(10)"
   ]
  },
  {
   "cell_type": "code",
   "execution_count": null,
   "id": "5c6ed5d8",
   "metadata": {},
   "outputs": [],
   "source": [
    "# Caricamento e cleaning dataset risultati_elezioni_presidenziali_2_turno\n",
    "\n",
    "df_risultati_elezioni_presidenziali_2_turno = filtra_dataset_per_regioni(file_path_risultati_delle_elezioni_presidenziali_2_turno, dtype={\"Code du département\": str, \"Code de la commune\": str, \"Code du b.vote\": str})\n",
    "df_risultati_elezioni_presidenziali_2_turno.rename(columns={\"Code du département\" : \"codice_dipartimento\", \"Libellé du département\" : \"nome_dipartimento\", \"Code de la circonscription\" : \"codice_circoscrizione\", \"Libellé de la circonscription\" : \"nome_circoscrizione\", \"Code de la commune\" : \"codice_comune\", \"Libellé de la commune\" : \"nome_comune\", \"Code du b.vote\" : \"codice_seggio_elettorale\", \"Inscrits\" : \"iscritti\", \"Abstentions\" : \"astenuti\", \"% Abs/Ins\" : \"% astenuti/iscritti\", \"Votants\" : \"votanti\", \"% Vot/Ins\" : \"% votanti/iscritti\", \"Blancs\" : \"bianche\", \"% Blancs/Ins\" : \"% bianche/iscritti\", \"% Blancs/Vot\" : \"% bianche/votanti\", \"Nuls\" : \"nulle\", \"% Nuls/Ins\" : \"% nulle/iscritti\", \"% Nuls/Vot\" : \"% nulle/votanti\", \"Exprimés\" : \"espressi\", \"% Exp/Ins\" : \"% espressi/iscritti\", \"% Exp/Vot\" : \"% espressi/votanti\", \"N°Panneau\" : \"pannello_numero\", \"Sexe\" : \"genere\", \"Nom\" : \"cognome\", \"Prénom\" : \"nome\", \"Nuance\" : \"partito\", \"Voix\" : \"voti\", \"% Voix/Ins\" : \"% voti/iscritti\", \"% Voix/Exp\" : \"% voti/espressi\", \"Code Officiel EPCI\" : \"codice_EPCI\", \"Nom Officiel EPCI\" : \"nome_EPCI\", \"Code Officiel Région\" : \"codice_regione\", \"Nom Officiel Région\" : \"nome_regione\", \"location\" : \"coordinate\", \"lib_du_b_vote\" : \"etichetta_seggio_elettorale\", \"scrutin_code\" : \"codice_scrutinio\"}, inplace=True)\n",
    "new_ordered_columns = [\"codice_regione\",\"nome_regione\",\"codice_dipartimento\",\"nome_dipartimento\",\"codice_EPCI\", \"nome_EPCI\",\"codice_comune\",\"nome_comune\",\"codice_circoscrizione\",\"nome_circoscrizione\",\"codice_seggio_elettorale\",\"iscritti\",\"astenuti\",\"% astenuti/iscritti\",\"votanti\",\"% votanti/iscritti\",\"bianche\",\"% bianche/iscritti\",\"% bianche/votanti\",\"nulle\",\"% nulle/iscritti\",\"% nulle/votanti\",\"espressi\",\"% espressi/iscritti\",\"% espressi/votanti\",\"pannello_numero\",\"genere\",\"cognome\",\"nome\",\"partito\",\"voti\",\"% voti/iscritti\",\"% voti/espressi\",\"coordinate\",\"etichetta_seggio_elettorale\",\"codice_scrutinio\"]\n",
    "df_risultati_elezioni_presidenziali_2_turno = df_risultati_elezioni_presidenziali_2_turno.reindex(columns=new_ordered_columns)\n",
    "df_risultati_elezioni_presidenziali_2_turno['% voti/espressi'] = df_risultati_elezioni_presidenziali_2_turno['% voti/espressi'].map(float_converter)\n",
    "df_risultati_elezioni_presidenziali_2_turno = df_risultati_elezioni_presidenziali_2_turno.astype({\"codice_regione\": \"Int64\", \"codice_EPCI\": \"Int64\", \"codice_circoscrizione\": \"Int64\", \"% voti/espressi\": np.float64}, errors='ignore')\n",
    "df_risultati_elezioni_presidenziali_2_turno = df_risultati_elezioni_presidenziali_2_turno.astype({\"codice_regione\": str, \"codice_EPCI\": str, \"codice_circoscrizione\": str})\n",
    "df_risultati_elezioni_presidenziali_2_turno.to_csv(file_path_risultati_elezioni_presidenziali_2_turno, index=False)\n",
    "#df_risultati_elezioni_presidenziali_2_turno.head(10)"
   ]
  },
  {
   "cell_type": "code",
   "execution_count": null,
   "id": "b3920945",
   "metadata": {},
   "outputs": [],
   "source": [
    "# Caricamento e cleaning dataset disoccupazione\n",
    "\n",
    "df_disoccupazione = filtra_dataset_per_regioni(file_path_dati_sulla_disoccupazione)\n",
    "df_disoccupazione.rename(columns={\"Période (Trimestre)\": \"periodo_trimestre\",\"Date\":\"data\",\"Catégorie\":\"categoria\",\n",
    "                                  \"Tranche d'âge\":\"fascia_eta\",\"Nb moyen demandeur emploi\":\"numero_medio_persone_cercanti_lavoro\",\n",
    "                                  \"Nb moyen demandeur emploi Homme\":\"numero_medio_uomini_cercanti_lavoro\",\"Nb moyen demandeur emploi Femme\":\"numero_medio_donne_cercanti_lavoro\",\n",
    "                                  \"Différence Nb demandeur emploi trimestre précédent\":\"differenza_con_cercanti_lavoro_trimestre_prec\",\n",
    "                                  \"Nb moyen entrées\":\"numero_medio_entrate\",\"Nb moyen sorties\":\"numero_medio_uscite\",\n",
    "                                  \"Nb moyen demandeur emploi longue durée\":\"numero_medio_persone_cercanti_lavoro_lungo_termine\",\n",
    "                                  \"Code Officiel Département\":\"codice_dipartimento\",\"Code Officiel Région\":\"codice_regione\",\n",
    "                                  \"Nom Officiel Région\":\"nome_regione\",\"Code Iso 3166-3 Zone\":\"Code Iso 3166-3 Zona\",\n",
    "                                  \"Nom Officiel Département\":\"nome_dipartimento\"}, inplace=True)\n",
    "df_disoccupazione.drop([\"periodo_trimestre\", \"categoria\", \"fascia_eta\", \"numero_medio_uomini_cercanti_lavoro\", \"numero_medio_donne_cercanti_lavoro\",\n",
    "                        \"numero_medio_entrate\", \"numero_medio_uscite\", \"numero_medio_persone_cercanti_lavoro_lungo_termine\", \"Code Iso 3166-3 Zona\"],\n",
    "                        axis=1, inplace=True)\n",
    "new_ordered_columns = [\"data\",\"nome_regione\",\"codice_regione\",\"nome_dipartimento\",\"codice_dipartimento\",\"numero_medio_persone_cercanti_lavoro\",\"differenza_con_cercanti_lavoro_trimestre_prec\"]\n",
    "df_disoccupazione = df_disoccupazione.reindex(columns=new_ordered_columns)\n",
    "#df_disoccupazione.head(10)"
   ]
  },
  {
   "cell_type": "code",
   "execution_count": null,
   "id": "127fc2bd",
   "metadata": {},
   "outputs": [],
   "source": [
    "# Caricamento e cleaning dataset andamento_prezzi_carburanti\n",
    "\n",
    "df_andamento_prezzi_carburanti = filtra_dataset_per_regioni(file_path_andamento_dei_prezzi_dei_carburanti, dtype={\"Code officiel commune ou arrondissement\": str, \"Nom Officiel Département\": str, \"Code Officiel Département\": str})\n",
    "df_andamento_prezzi_carburanti.rename(columns={\"Timetable\":\"orario\",\"Identifiant\":\"identificativo\",\"Code Postal\":\"cap\",\"Présence\":\"presenza\",\"Adresse\":\"indirizzo\",\"Nom Officiel Commune / Arrondissement Municipal Majuscule\":\"nome_comune\",\"Code officiel commune ou arrondissement\":\"codice_comune\",\"Nom Officiel Département\":\"nome_dipartimento\",\"Code Officiel Département\":\"codice_dipartimento\",\"Nom Officiel Région\":\"nome_regione\",\"Code Officiel Région\":\"codice_regione\",\"Nom Officiel EPCI\":\"nome_EPCI\",\"Code Officiel EPCI\":\"codice_EPCI\",\"Automate 24-24\":\"automatico\",\"Carburant\":\"carburante\",\"Rupture\":\"interruzione\",\"Mise à jour\":\"aggiornamento\",\"Prix Gazole\":\"prezzo_diesel\",\"Prix SP95\":\"prezzo_SP95\",\"Prix SP98\":\"prezzo_SP98\",\"Prix GPLc\":\"prezzo_GPLc\",\"Prix E10\":\"prezzo_E10\",\"Prix E85\":\"prezzo_E85\",\"Services\":\"servizi\",\"Marque\":\"marca\",\"Nom\":\"nome\",\"Geo Point\":\"punto_geografico\"}, inplace=True)\n",
    "new_ordered_columns = [\"orario\",\"identificativo\",\"cap\",\"presenza\",\"indirizzo\",\"nome_regione\",\"codice_regione\",\"nome_dipartimento\",\"codice_dipartimento\",\"nome_EPCI\",\"codice_EPCI\",\"nome_comune\",\"codice_comune\",\"automatico\",\"carburante\",\"interruzione\",\"aggiornamento\",\"prezzo_diesel\",\"prezzo_SP95\",\"prezzo_SP98\",\"prezzo_GPLc\",\"prezzo_E10\",\"prezzo_E85\",\"servizi\",\"marca\",\"nome\",\"punto_geografico\"]\n",
    "df_andamento_prezzi_carburanti = df_andamento_prezzi_carburanti.reindex(columns=new_ordered_columns)\n",
    "#df_andamento_prezzi_carburanti.head(10)"
   ]
  },
  {
   "cell_type": "code",
   "execution_count": null,
   "id": "bb4ba35f",
   "metadata": {},
   "outputs": [],
   "source": [
    "# Caricamento e cleaning dataset reddito\n",
    "\n",
    "df_reddito_dipartimenti = filtra_dataset_per_regioni(file_path_reddito_per_dipartimenti)\n",
    "df_reddito_dipartimenti.rename(columns={\"Nom Officiel Région\":\"nome_regione\", \"Libellé du département\" : \"nome_dipartimento\", \"Revenu\": \"reddito_pro_capite\"}, inplace=True)\n",
    "# df_reddito_dipartimenti.head(10)"
   ]
  },
  {
   "cell_type": "code",
   "execution_count": null,
   "id": "413ed693",
   "metadata": {},
   "outputs": [],
   "source": [
    "#definisco una funzione per calcolare la maggiore o minore percentuale di voti per un candidato\n",
    "def get_dipartimenti_min_max_perc_voti(df_dataset, cognome=None, min=False):\n",
    "    \n",
    "    # Raggruppa i dati sulle colonne 'nome_dipartimento' e 'cognome' e ottiene la somma dei valori della colonna 'voti' e della colonna 'espressi'\n",
    "    somma_voti_espressi = df_dataset.groupby(['nome_dipartimento', 'cognome'], as_index=False)[['voti','espressi']].sum()\n",
    "    \n",
    "    #filtro per cognome\n",
    "    somma_voti_espressi = somma_voti_espressi[somma_voti_espressi['cognome']== cognome]\n",
    "    \n",
    "    #calcolo la percentuale e ordino in maniera decrescente\n",
    "    somma_voti_espressi['% voti_a_favore/voti_totali'] = somma_voti_espressi.apply(percentage_calculator, axis=1)\n",
    "    percentuali = somma_voti_espressi.sort_values(by=\"% voti_a_favore/voti_totali\",ascending=False)\n",
    "    percentuali.reset_index(drop=True, inplace=True)\n",
    "    \n",
    "    #seleziono in base al valore di min i dipartimenti con percentuale maggiore o minore\n",
    "    if min:\n",
    "        df_query = percentuali[-20:]\n",
    "    else:\n",
    "        df_query = percentuali[:20]\n",
    "    display(df_query)\n",
    "    lista_dipartimenti = df_query[\"nome_dipartimento\"].values.tolist()\n",
    "    display(lista_dipartimenti)\n",
    "    return lista_dipartimenti"
   ]
  },
  {
   "cell_type": "code",
   "execution_count": null,
   "id": "6ce841de",
   "metadata": {},
   "outputs": [],
   "source": [
    "# Query n.1\n",
    "\n",
    "# • I 20 dipartimenti con la maggiore percentuale di voti per Macron\n",
    "#     • Primo e secondo turno\n",
    "\n",
    "\n",
    "print('primo turno')\n",
    "lista_dipartimenti_1_turno_max_macron = get_dipartimenti_min_max_perc_voti(df_risultati_elezioni_presidenziali_1_turno, cognome='MACRON')\n",
    "\n",
    "print('secondo turno')\n",
    "lista_dipartimenti_2_turno_max_macron = get_dipartimenti_min_max_perc_voti(df_risultati_elezioni_presidenziali_2_turno, cognome='MACRON')"
   ]
  },
  {
   "cell_type": "code",
   "execution_count": null,
   "id": "0ca5fc80",
   "metadata": {},
   "outputs": [],
   "source": [
    "# Query n.2\n",
    "\n",
    "# I 20 dipartimenti con la minore percentuale di voti per Macron\n",
    "#     • Primo e secondo turno\n",
    "\n",
    "\n",
    "print('primo turno')\n",
    "lista_dipartimenti_1_turno_min_macron = get_dipartimenti_min_max_perc_voti(df_risultati_elezioni_presidenziali_1_turno, cognome='MACRON', min=True)\n",
    "\n",
    "print('secondo turno')\n",
    "lista_dipartimenti_2_turno_min_macron = get_dipartimenti_min_max_perc_voti(df_risultati_elezioni_presidenziali_2_turno, cognome='MACRON', min=True)"
   ]
  },
  {
   "cell_type": "code",
   "execution_count": null,
   "id": "33123f64",
   "metadata": {},
   "outputs": [],
   "source": [
    "# Query n.3\n",
    "\n",
    "# I 20 dipartimenti con la maggiore percentuale di voti per Marine Le Pen\n",
    "#    • Primo e secondo turno\n",
    "\n",
    "print('primo turno')\n",
    "lista_dipartimenti_1_turno_max_lepen = get_dipartimenti_min_max_perc_voti(df_risultati_elezioni_presidenziali_1_turno, cognome = 'LE PEN')\n",
    "\n",
    "print('secondo turno')\n",
    "lista_dipartimenti_2_turno_max_lepen = get_dipartimenti_min_max_perc_voti(df_risultati_elezioni_presidenziali_2_turno, cognome = 'LE PEN')"
   ]
  },
  {
   "cell_type": "code",
   "execution_count": null,
   "id": "35821f53",
   "metadata": {},
   "outputs": [],
   "source": [
    "# Query n.4\n",
    "\n",
    "# I 20 dipartimenti con la minore percentuale di voti per Marine Le Pen\n",
    "#     • Primo e secondo turno\n",
    "\n",
    "print('primo turno')\n",
    "lista_dipartimenti_1_turno_min_lepen = get_dipartimenti_min_max_perc_voti(df_risultati_elezioni_presidenziali_1_turno, cognome = 'LE PEN', min = True)\n",
    "\n",
    "print('secondo turno')\n",
    "lista_dipartimenti_2_turno_min_lepen = get_dipartimenti_min_max_perc_voti(df_risultati_elezioni_presidenziali_2_turno, cognome = 'LE PEN', min = True)"
   ]
  },
  {
   "cell_type": "code",
   "execution_count": null,
   "id": "5a32b525",
   "metadata": {},
   "outputs": [],
   "source": [
    "# Query n.5\n",
    "#• I 20 dipartimenti con la maggiore percentuale di voti per Jean-Luc Melenchon\n",
    "#    • Primo turno\n",
    "\n",
    "print('primo turno')\n",
    "lista_dipartimenti_1_turno_max_melanchon = get_dipartimenti_min_max_perc_voti(df_risultati_elezioni_presidenziali_1_turno, cognome = 'MÉLENCHON')\n"
   ]
  },
  {
   "cell_type": "code",
   "execution_count": null,
   "id": "9bddb191",
   "metadata": {},
   "outputs": [],
   "source": [
    "# Query n.6 e n.7\n",
    "\n",
    "#seleziono il primo trimestre del 2022 e sommo il numero di persone in cerca di lavoro\n",
    "primo_trimestre = df_disoccupazione[(pd.to_datetime(df_disoccupazione['data']).dt.year == 2022 ) & (pd.to_datetime(df_disoccupazione['data']).dt.quarter == 1)]\n",
    "primo_trimestre_sum = primo_trimestre.groupby('nome_dipartimento')['numero_medio_persone_cercanti_lavoro'].sum()\n",
    "\n",
    "#seleziono i restanti trimestri del 2022 e sommo la differenza delle persone in cerca di lavoro rispetto al trimestre precedente\n",
    "trimestri_successivi = df_disoccupazione[(pd.to_datetime(df_disoccupazione['data']).dt.year == 2022 ) & (pd.to_datetime(df_disoccupazione['data']).dt.quarter > 1)]\n",
    "trimestri_successivi_sum = trimestri_successivi.groupby('nome_dipartimento')['differenza_con_cercanti_lavoro_trimestre_prec'].sum()\n",
    "\n",
    "#unisco i dati e sommo il numero di disoccupati al primo trimeste con la somma delle differenze\n",
    "risultato = pd.merge(primo_trimestre_sum, trimestri_successivi_sum, on='nome_dipartimento')\n",
    "risultato['disoccupazione_totale'] = risultato['numero_medio_persone_cercanti_lavoro'] + risultato['differenza_con_cercanti_lavoro_trimestre_prec']\n",
    "\n",
    "#seleziono i 20 dipartimenti con la maggiore e minore disoccupazione totale\n",
    "risultato_top_20 = risultato.nlargest(20, 'disoccupazione_totale')\n",
    "risultato_bottom_20 = risultato.nsmallest(20, 'disoccupazione_totale')\n",
    "\n",
    "display(\"I 20 dipartimenti con la maggiore disoccupazione\", risultato_top_20)\n",
    "display(\"I 20 dipartimenti con la minore disoccupazione\", risultato_bottom_20)"
   ]
  },
  {
   "cell_type": "code",
   "execution_count": null,
   "id": "094ca83b",
   "metadata": {},
   "outputs": [],
   "source": [
    "# Query n.8\n",
    "\n",
    "# I 20 dipartimenti con il maggiore reddito pro capite\n",
    "\n",
    "# ordina i dipartimenti per reddito descrescente\n",
    "df_final = df_reddito_dipartimenti.sort_values(by=\"reddito_pro_capite\", ascending=False)[['nome_dipartimento', 'reddito_pro_capite']]\n",
    "\n",
    "# stampa i 20 dipartimenti con il maggiore reddito pro capite\n",
    "df_final.head(20)"
   ]
  },
  {
   "cell_type": "code",
   "execution_count": null,
   "id": "70269978",
   "metadata": {},
   "outputs": [],
   "source": [
    "# Query n.9\n",
    "\n",
    "# I 20 dipartimenti con il minore reddito pro capite\n",
    "\n",
    "# ordina i dipartimenti per reddito descrescente\n",
    "df_final = df_reddito_dipartimenti.sort_values(by=\"reddito_pro_capite\", ascending=False)[['nome_dipartimento', 'reddito_pro_capite']]\n",
    "\n",
    "# stampa i 20 dipartimenti con il minore reddito pro capite\n",
    "df_final.tail(20)"
   ]
  },
  {
   "cell_type": "code",
   "execution_count": null,
   "id": "7f66da4c",
   "metadata": {},
   "outputs": [],
   "source": [
    "# Query n.10\n",
    "\n",
    "# I 20 dipartimenti con la maggiore percentuale di vaccinazioni COVID\n",
    "\n",
    "# seleziona i dati dei vaccini somministrati a tutte le età\n",
    "dati_tutte_eta = df_vaccinazioni_covid[df_vaccinazioni_covid['etichetta_variabile'] == 'Tous âges']\n",
    "\n",
    "# ottiene la copertura vaccinale (relativa ad un ciclo vaccinale completo, almeno seconda dose) più recente per dipartimento \n",
    "lista_copertura_dipartimento = dati_tutte_eta.groupby(['nome_dipartimento'])['copertura_vaccinale_seconda_dose'].max()\n",
    "\n",
    "# ordina per copertura vaccinale descrescente\n",
    "lista_copertura_dipartimento.sort_values(ascending=False, inplace=True)\n",
    "\n",
    "# converte la Series nuovamente in DataFrame\n",
    "df_final = lista_copertura_dipartimento.to_frame(name='% vaccinazioni COVID')\n",
    "\n",
    "# stampa i 20 dipartimenti con la maggiore percentuale di vaccinazioni COVID\n",
    "df_final.head(20)"
   ]
  },
  {
   "cell_type": "code",
   "execution_count": null,
   "id": "9843b567",
   "metadata": {},
   "outputs": [],
   "source": [
    "# Query n.11\n",
    "\n",
    "# I 20 dipartimenti con la minore percentuale di vaccinazioni COVID\n",
    "\n",
    "# seleziona i dati dei vaccini somministrati a tutte le età\n",
    "dati_tutte_eta = df_vaccinazioni_covid[df_vaccinazioni_covid['etichetta_variabile'] == 'Tous âges']\n",
    "\n",
    "# ottiene la copertura vaccinale (relativa ad un ciclo vaccinale completo, almeno seconda dose) più recente per dipartimento \n",
    "lista_copertura_dipartimento = dati_tutte_eta.groupby(['nome_dipartimento'])['copertura_vaccinale_seconda_dose'].max()\n",
    "\n",
    "# ordina per copertura vaccinale descrescente\n",
    "lista_copertura_dipartimento.sort_values(ascending=False, inplace=True)\n",
    "\n",
    "# converte la Series nuovamente in DataFrame\n",
    "df_final = lista_copertura_dipartimento.to_frame(name='% vaccinazioni COVID')\n",
    "\n",
    "# stampa i 20 dipartimenti con la minore percentuale di vaccinazioni COVID\n",
    "df_final.tail(20)"
   ]
  },
  {
   "cell_type": "code",
   "execution_count": null,
   "id": "abf5c24e",
   "metadata": {},
   "outputs": [],
   "source": [
    "# Query n.12"
   ]
  },
  {
   "cell_type": "code",
   "execution_count": null,
   "id": "a254d429",
   "metadata": {},
   "outputs": [],
   "source": [
    "# Query n.13"
   ]
  },
  {
   "cell_type": "code",
   "execution_count": null,
   "id": "17be3a8e",
   "metadata": {},
   "outputs": [],
   "source": [
    "# Query n.14"
   ]
  }
 ],
 "metadata": {
  "kernelspec": {
   "display_name": "Python 3 (ipykernel)",
   "language": "python",
   "name": "python3"
  },
  "language_info": {
   "codemirror_mode": {
    "name": "ipython",
    "version": 3
   },
   "file_extension": ".py",
   "mimetype": "text/x-python",
   "name": "python",
   "nbconvert_exporter": "python",
   "pygments_lexer": "ipython3",
   "version": "3.10.11"
  }
 },
 "nbformat": 4,
 "nbformat_minor": 5
}

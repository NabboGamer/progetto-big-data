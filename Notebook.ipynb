{
 "cells": [
  {
   "cell_type": "code",
   "execution_count": null,
   "id": "1871cd02",
   "metadata": {},
   "outputs": [],
   "source": [
    "import json\n",
    "\n",
    "import numpy as np\n",
    "\n",
    "import pandas as pd"
   ]
  },
  {
   "cell_type": "code",
   "execution_count": null,
   "id": "f5c71bf8",
   "metadata": {},
   "outputs": [],
   "source": [
    "# Leggo il file di configurazione\n",
    "with open('config/config.json') as f:\n",
    "    config_data = json.load(f)\n",
    "\n",
    "# Ottengo i percorsi dei file\n",
    "file_path_vaccinazioni_covid = config_data['path_covid_19_france_vaccinations_age_sexe_dep']\n",
    "file_path_andamento_dei_prezzi_al_consumo = config_data['path_economicref_france_indice_prix_consommation']\n",
    "file_path_risultati_delle_elezioni_legislative_1_turno = config_data['path_elections_france_legislatives_2022_1er_tour_par_bureau_de_vote']\n",
    "file_path_risultati_delle_elezioni_legislative_2_turno = config_data['path_elections_france_legislatives_2022_2nd_tour_par_bureau_de_vote']\n",
    "file_path_risultati_delle_elezioni_presidenziali_1_turno = config_data['path_elections_france_presidentielles_2022_1er_tour_par_bureau_de_vote']\n",
    "file_path_risultati_delle_elezioni_presidenziali_2_turno = config_data['path_elections_france_presidentielles_2022_2nd_tour_par_bureau_de_vote']\n",
    "file_path_dati_sulla_disoccupazione = config_data['path_labouref_france_departement_quarter_jobseeker']\n",
    "file_path_andamento_dei_prezzi_dei_carburanti = config_data['path_prix_des_carburants_j_1_001']"
   ]
  },
  {
   "cell_type": "code",
   "execution_count": null,
   "id": "a6fd82c7",
   "metadata": {},
   "outputs": [],
   "source": [
    "# Carico i dataset in memoria\n",
    "# TODO:assegnare id dtype per ogni colonna per evitare che pandas faccia 'Dtype Guessing' poichè molto inefficiente \n",
    "\n",
    "df_vaccinazioni_covid = pd.read_csv(file_path_vaccinazioni_covid, sep=';')\n",
    "df_andamento_prezzi_consumo = pd.read_csv(file_path_andamento_dei_prezzi_al_consumo, sep=';')\n",
    "df_risultati_elezioni_legislative_1_turno = pd.read_csv(file_path_risultati_delle_elezioni_legislative_1_turno, sep=';')\n",
    "df_risultati_elezioni_legislative_2_turno = pd.read_csv(file_path_risultati_delle_elezioni_legislative_2_turno, sep=';')\n",
    "df_risultati_elezioni_presidenziali_1_turno = pd.read_csv(file_path_risultati_delle_elezioni_presidenziali_1_turno, sep=';')\n",
    "df_risultati_elezioni_presidenziali_2_turno = pd.read_csv(file_path_risultati_delle_elezioni_presidenziali_2_turno, sep=';')\n",
    "df_disoccupazione = pd.read_csv(file_path_dati_sulla_disoccupazione, sep=';')\n",
    "df_andamento_prezzi_carburanti = pd.read_csv(file_path_andamento_dei_prezzi_dei_carburanti, sep=';')"
   ]
  },
  {
   "cell_type": "code",
   "execution_count": null,
   "id": "68f2a0f7",
   "metadata": {},
   "outputs": [],
   "source": []
  }
 ],
 "metadata": {
  "kernelspec": {
   "display_name": "Python 3 (ipykernel)",
   "language": "python",
   "name": "python3"
  },
  "language_info": {
   "codemirror_mode": {
    "name": "ipython",
    "version": 3
   },
   "file_extension": ".py",
   "mimetype": "text/x-python",
   "name": "python",
   "nbconvert_exporter": "python",
   "pygments_lexer": "ipython3",
   "version": "3.10.8"
  }
 },
 "nbformat": 4,
 "nbformat_minor": 5
}
